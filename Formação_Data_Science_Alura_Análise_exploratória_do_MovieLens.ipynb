{
  "nbformat": 4,
  "nbformat_minor": 0,
  "metadata": {
    "kernelspec": {
      "display_name": "Python 3",
      "language": "python",
      "name": "python3"
    },
    "language_info": {
      "codemirror_mode": {
        "name": "ipython",
        "version": 3
      },
      "file_extension": ".py",
      "mimetype": "text/x-python",
      "name": "python",
      "nbconvert_exporter": "python",
      "pygments_lexer": "ipython3",
      "version": "3.6.1"
    },
    "colab": {
      "name": "Formação Data Science Alura - Análise exploratória do MovieLens.ipynb",
      "provenance": [],
      "collapsed_sections": [
        "EUjeurhbEJYb",
        "L0WU7a5iEJZI",
        "M4tjtBEDEJZO",
        "7usbh_jMEJZW",
        "Vui2rI22EJZf",
        "VqwdECT4EJZo",
        "KQxmNLSNEJZp",
        "cyfWRfNREJZ2",
        "8DizeyGxEJZ9"
      ],
      "toc_visible": true
    }
  },
  "cells": [
    {
      "cell_type": "markdown",
      "metadata": {
        "id": "ELqLlThEEJX-",
        "colab_type": "text"
      },
      "source": [
        "## Pergunta: Coloque um cabeçalho nesse notebook com o seu nome e resumindo o que descobriu ao explorar esses dados"
      ]
    },
    {
      "cell_type": "markdown",
      "metadata": {
        "id": "00CsGoRMghrJ",
        "colab_type": "text"
      },
      "source": [
        "#Meu nome é Diego Haji Carvalho Campos.\n",
        "\n",
        "Eu descobri que as pessoas gostam de filmes de ação drama e comédia. Os gêneros de ação e aventura são os que possuem as melhores notas concedidas pelos avaliadores. São produzidos muitos filmes de comédia. O gênero ação e guerra estão fortemente relacionados. Apesar de ter um número maior de votos o gênero ação possui uma média de notas superior ao gênero terror. Clube da Luta e O Cavaleiro das Trevas são dois dos filmes mais bem avaliados nas categorias ação e drama. Fazer filmes com Morgan Freeman geralmente é um sinal de suceeso, fazer filmes com Will Smith nem tanto."
      ]
    },
    {
      "cell_type": "markdown",
      "metadata": {
        "id": "lq5APOlcEJYA",
        "colab_type": "text"
      },
      "source": [
        "## Formação Data Science Alura - Análise exploratória do MovieLens\n",
        "\n",
        "Na formação de Data Scienda www.alura.com.br um dos conjuntos de dados que utilizamos é o de avaliações para filmes no site MovieLens. Neste projeto faremos uma análise exploratória desses dados."
      ]
    },
    {
      "cell_type": "markdown",
      "metadata": {
        "id": "SOJWVlxBEJYB",
        "colab_type": "text"
      },
      "source": [
        "### Dicas para o projeto completo:\n",
        "\n",
        "- todo gráfico deve ter um título, labels e legendas que fazem sentido\n",
        "- configure um tamanho adequado para os gráficos\n",
        "- utilize as versões dos arquivos de dados disponíveis no github"
      ]
    },
    {
      "cell_type": "markdown",
      "metadata": {
        "id": "2-XPYkCbEJYC",
        "colab_type": "text"
      },
      "source": [
        "## Pergunta: conferindo as versões utilizadas\n",
        "\n",
        "- Devemos usar pandas 0.24.0 ou mais recente\n",
        "- Devemos usar seaborn 0.9.0 ou mais recente\n",
        "- Devemos usar scipy 1.2.0 ou mais recente"
      ]
    },
    {
      "cell_type": "code",
      "metadata": {
        "id": "SkQ_dI1MEJYC",
        "colab_type": "code",
        "colab": {}
      },
      "source": [
        "#!pip install pandas==\"0.24.0\" --quiet\n",
        "#!pip install seaborn==\"0.9.0\" --quiet\n",
        "#!pip install scipy==\"1.2.0\" --quiet"
      ],
      "execution_count": 0,
      "outputs": []
    },
    {
      "cell_type": "code",
      "metadata": {
        "id": "Abr1KKLXEJYF",
        "colab_type": "code",
        "outputId": "73008430-308b-455d-8cf6-a08ca6b270b7",
        "colab": {
          "base_uri": "https://localhost:8080/",
          "height": 68
        }
      },
      "source": [
        "import pandas as pd\n",
        "import seaborn as sns\n",
        "import scipy\n",
        "import numpy as np\n",
        "import scipy.stats as stats\n",
        "import math\n",
        "\n",
        "print(\"Usando pandas %s\" % pd.__version__)\n",
        "print(\"Usando seaborn %s\" % sns.__version__)\n",
        "print(\"Usando scipy %s\" % scipy.__version__)"
      ],
      "execution_count": 64,
      "outputs": [
        {
          "output_type": "stream",
          "text": [
            "Usando pandas 0.25.3\n",
            "Usando seaborn 0.10.0\n",
            "Usando scipy 1.4.1\n"
          ],
          "name": "stdout"
        }
      ]
    },
    {
      "cell_type": "markdown",
      "metadata": {
        "id": "8D1_ugBgEJYI",
        "colab_type": "text"
      },
      "source": [
        "## Pergunta: carregue os filmes\n",
        "\n",
        "- os dados `https://raw.githubusercontent.com/alura-cursos/formacao-data-science/master/movies.csv` devem ser carregado em `filmes`\n",
        "- renomeie as colunas para `filmeId`, `titulo` e `generos`\n",
        "- configure o indice (`index`) para ser o `filmeId`"
      ]
    },
    {
      "cell_type": "code",
      "metadata": {
        "id": "Ix72mXTaEJYI",
        "colab_type": "code",
        "colab": {}
      },
      "source": [
        "# solução\n",
        "filmes = pd.read_csv('https://raw.githubusercontent.com/alura-cursos/formacao-data-science/master/movies.csv')  \n",
        "\n",
        "filmes.columns = ['filmesId','titulo','generos']\n",
        "filmes.index = filmes.filmesId\n",
        "#filmes.reset_index(drop=True, level = None)\n"
      ],
      "execution_count": 0,
      "outputs": []
    },
    {
      "cell_type": "code",
      "metadata": {
        "id": "sv45Wa77EJYK",
        "colab_type": "code",
        "outputId": "f97955c0-6b78-4e9d-858a-fb1d8657832e",
        "colab": {
          "base_uri": "https://localhost:8080/",
          "height": 450
        }
      },
      "source": [
        "filmes"
      ],
      "execution_count": 66,
      "outputs": [
        {
          "output_type": "execute_result",
          "data": {
            "text/html": [
              "<div>\n",
              "<style scoped>\n",
              "    .dataframe tbody tr th:only-of-type {\n",
              "        vertical-align: middle;\n",
              "    }\n",
              "\n",
              "    .dataframe tbody tr th {\n",
              "        vertical-align: top;\n",
              "    }\n",
              "\n",
              "    .dataframe thead th {\n",
              "        text-align: right;\n",
              "    }\n",
              "</style>\n",
              "<table border=\"1\" class=\"dataframe\">\n",
              "  <thead>\n",
              "    <tr style=\"text-align: right;\">\n",
              "      <th></th>\n",
              "      <th>filmesId</th>\n",
              "      <th>titulo</th>\n",
              "      <th>generos</th>\n",
              "    </tr>\n",
              "    <tr>\n",
              "      <th>filmesId</th>\n",
              "      <th></th>\n",
              "      <th></th>\n",
              "      <th></th>\n",
              "    </tr>\n",
              "  </thead>\n",
              "  <tbody>\n",
              "    <tr>\n",
              "      <th>1</th>\n",
              "      <td>1</td>\n",
              "      <td>Toy Story (1995)</td>\n",
              "      <td>Adventure|Animation|Children|Comedy|Fantasy</td>\n",
              "    </tr>\n",
              "    <tr>\n",
              "      <th>2</th>\n",
              "      <td>2</td>\n",
              "      <td>Jumanji (1995)</td>\n",
              "      <td>Adventure|Children|Fantasy</td>\n",
              "    </tr>\n",
              "    <tr>\n",
              "      <th>3</th>\n",
              "      <td>3</td>\n",
              "      <td>Grumpier Old Men (1995)</td>\n",
              "      <td>Comedy|Romance</td>\n",
              "    </tr>\n",
              "    <tr>\n",
              "      <th>4</th>\n",
              "      <td>4</td>\n",
              "      <td>Waiting to Exhale (1995)</td>\n",
              "      <td>Comedy|Drama|Romance</td>\n",
              "    </tr>\n",
              "    <tr>\n",
              "      <th>5</th>\n",
              "      <td>5</td>\n",
              "      <td>Father of the Bride Part II (1995)</td>\n",
              "      <td>Comedy</td>\n",
              "    </tr>\n",
              "    <tr>\n",
              "      <th>...</th>\n",
              "      <td>...</td>\n",
              "      <td>...</td>\n",
              "      <td>...</td>\n",
              "    </tr>\n",
              "    <tr>\n",
              "      <th>193581</th>\n",
              "      <td>193581</td>\n",
              "      <td>Black Butler: Book of the Atlantic (2017)</td>\n",
              "      <td>Action|Animation|Comedy|Fantasy</td>\n",
              "    </tr>\n",
              "    <tr>\n",
              "      <th>193583</th>\n",
              "      <td>193583</td>\n",
              "      <td>No Game No Life: Zero (2017)</td>\n",
              "      <td>Animation|Comedy|Fantasy</td>\n",
              "    </tr>\n",
              "    <tr>\n",
              "      <th>193585</th>\n",
              "      <td>193585</td>\n",
              "      <td>Flint (2017)</td>\n",
              "      <td>Drama</td>\n",
              "    </tr>\n",
              "    <tr>\n",
              "      <th>193587</th>\n",
              "      <td>193587</td>\n",
              "      <td>Bungo Stray Dogs: Dead Apple (2018)</td>\n",
              "      <td>Action|Animation</td>\n",
              "    </tr>\n",
              "    <tr>\n",
              "      <th>193609</th>\n",
              "      <td>193609</td>\n",
              "      <td>Andrew Dice Clay: Dice Rules (1991)</td>\n",
              "      <td>Comedy</td>\n",
              "    </tr>\n",
              "  </tbody>\n",
              "</table>\n",
              "<p>9742 rows × 3 columns</p>\n",
              "</div>"
            ],
            "text/plain": [
              "          filmesId  ...                                      generos\n",
              "filmesId            ...                                             \n",
              "1                1  ...  Adventure|Animation|Children|Comedy|Fantasy\n",
              "2                2  ...                   Adventure|Children|Fantasy\n",
              "3                3  ...                               Comedy|Romance\n",
              "4                4  ...                         Comedy|Drama|Romance\n",
              "5                5  ...                                       Comedy\n",
              "...            ...  ...                                          ...\n",
              "193581      193581  ...              Action|Animation|Comedy|Fantasy\n",
              "193583      193583  ...                     Animation|Comedy|Fantasy\n",
              "193585      193585  ...                                        Drama\n",
              "193587      193587  ...                             Action|Animation\n",
              "193609      193609  ...                                       Comedy\n",
              "\n",
              "[9742 rows x 3 columns]"
            ]
          },
          "metadata": {
            "tags": []
          },
          "execution_count": 66
        }
      ]
    },
    {
      "cell_type": "code",
      "metadata": {
        "scrolled": true,
        "id": "cIs_BDv5EJYM",
        "colab_type": "code",
        "outputId": "9025fe2d-8e85-473e-d440-833622a134bc",
        "colab": {
          "base_uri": "https://localhost:8080/",
          "height": 34
        }
      },
      "source": [
        "print(\"Carregamos %d filmes\" % len(filmes))\n",
        "if(len(filmes) != 9742):\n",
        "    print(\"ERRO! O conjunto de dados que estamos trabalhando nesse projeto possui 9742 elementos.\")"
      ],
      "execution_count": 67,
      "outputs": [
        {
          "output_type": "stream",
          "text": [
            "Carregamos 9742 filmes\n"
          ],
          "name": "stdout"
        }
      ]
    },
    {
      "cell_type": "markdown",
      "metadata": {
        "id": "zDaJuRnLEJYO",
        "colab_type": "text"
      },
      "source": [
        "Vamos extrair o ano dos filmes (código já pronto): "
      ]
    },
    {
      "cell_type": "code",
      "metadata": {
        "id": "YUAT-021EJYP",
        "colab_type": "code",
        "outputId": "dcc742d7-0a15-44af-c7e4-6f34fef0a7ff",
        "colab": {
          "base_uri": "https://localhost:8080/",
          "height": 450
        }
      },
      "source": [
        "ano_de_lancamento = filmes.titulo.str.extract(\"\\((\\d{4})\\)\")\n",
        "filmes['ano_de_lancamento'] = ano_de_lancamento.astype(float)\n",
        "filmes"
      ],
      "execution_count": 68,
      "outputs": [
        {
          "output_type": "execute_result",
          "data": {
            "text/html": [
              "<div>\n",
              "<style scoped>\n",
              "    .dataframe tbody tr th:only-of-type {\n",
              "        vertical-align: middle;\n",
              "    }\n",
              "\n",
              "    .dataframe tbody tr th {\n",
              "        vertical-align: top;\n",
              "    }\n",
              "\n",
              "    .dataframe thead th {\n",
              "        text-align: right;\n",
              "    }\n",
              "</style>\n",
              "<table border=\"1\" class=\"dataframe\">\n",
              "  <thead>\n",
              "    <tr style=\"text-align: right;\">\n",
              "      <th></th>\n",
              "      <th>filmesId</th>\n",
              "      <th>titulo</th>\n",
              "      <th>generos</th>\n",
              "      <th>ano_de_lancamento</th>\n",
              "    </tr>\n",
              "    <tr>\n",
              "      <th>filmesId</th>\n",
              "      <th></th>\n",
              "      <th></th>\n",
              "      <th></th>\n",
              "      <th></th>\n",
              "    </tr>\n",
              "  </thead>\n",
              "  <tbody>\n",
              "    <tr>\n",
              "      <th>1</th>\n",
              "      <td>1</td>\n",
              "      <td>Toy Story (1995)</td>\n",
              "      <td>Adventure|Animation|Children|Comedy|Fantasy</td>\n",
              "      <td>1995.0</td>\n",
              "    </tr>\n",
              "    <tr>\n",
              "      <th>2</th>\n",
              "      <td>2</td>\n",
              "      <td>Jumanji (1995)</td>\n",
              "      <td>Adventure|Children|Fantasy</td>\n",
              "      <td>1995.0</td>\n",
              "    </tr>\n",
              "    <tr>\n",
              "      <th>3</th>\n",
              "      <td>3</td>\n",
              "      <td>Grumpier Old Men (1995)</td>\n",
              "      <td>Comedy|Romance</td>\n",
              "      <td>1995.0</td>\n",
              "    </tr>\n",
              "    <tr>\n",
              "      <th>4</th>\n",
              "      <td>4</td>\n",
              "      <td>Waiting to Exhale (1995)</td>\n",
              "      <td>Comedy|Drama|Romance</td>\n",
              "      <td>1995.0</td>\n",
              "    </tr>\n",
              "    <tr>\n",
              "      <th>5</th>\n",
              "      <td>5</td>\n",
              "      <td>Father of the Bride Part II (1995)</td>\n",
              "      <td>Comedy</td>\n",
              "      <td>1995.0</td>\n",
              "    </tr>\n",
              "    <tr>\n",
              "      <th>...</th>\n",
              "      <td>...</td>\n",
              "      <td>...</td>\n",
              "      <td>...</td>\n",
              "      <td>...</td>\n",
              "    </tr>\n",
              "    <tr>\n",
              "      <th>193581</th>\n",
              "      <td>193581</td>\n",
              "      <td>Black Butler: Book of the Atlantic (2017)</td>\n",
              "      <td>Action|Animation|Comedy|Fantasy</td>\n",
              "      <td>2017.0</td>\n",
              "    </tr>\n",
              "    <tr>\n",
              "      <th>193583</th>\n",
              "      <td>193583</td>\n",
              "      <td>No Game No Life: Zero (2017)</td>\n",
              "      <td>Animation|Comedy|Fantasy</td>\n",
              "      <td>2017.0</td>\n",
              "    </tr>\n",
              "    <tr>\n",
              "      <th>193585</th>\n",
              "      <td>193585</td>\n",
              "      <td>Flint (2017)</td>\n",
              "      <td>Drama</td>\n",
              "      <td>2017.0</td>\n",
              "    </tr>\n",
              "    <tr>\n",
              "      <th>193587</th>\n",
              "      <td>193587</td>\n",
              "      <td>Bungo Stray Dogs: Dead Apple (2018)</td>\n",
              "      <td>Action|Animation</td>\n",
              "      <td>2018.0</td>\n",
              "    </tr>\n",
              "    <tr>\n",
              "      <th>193609</th>\n",
              "      <td>193609</td>\n",
              "      <td>Andrew Dice Clay: Dice Rules (1991)</td>\n",
              "      <td>Comedy</td>\n",
              "      <td>1991.0</td>\n",
              "    </tr>\n",
              "  </tbody>\n",
              "</table>\n",
              "<p>9742 rows × 4 columns</p>\n",
              "</div>"
            ],
            "text/plain": [
              "          filmesId  ... ano_de_lancamento\n",
              "filmesId            ...                  \n",
              "1                1  ...            1995.0\n",
              "2                2  ...            1995.0\n",
              "3                3  ...            1995.0\n",
              "4                4  ...            1995.0\n",
              "5                5  ...            1995.0\n",
              "...            ...  ...               ...\n",
              "193581      193581  ...            2017.0\n",
              "193583      193583  ...            2017.0\n",
              "193585      193585  ...            2017.0\n",
              "193587      193587  ...            2018.0\n",
              "193609      193609  ...            1991.0\n",
              "\n",
              "[9742 rows x 4 columns]"
            ]
          },
          "metadata": {
            "tags": []
          },
          "execution_count": 68
        }
      ]
    },
    {
      "cell_type": "markdown",
      "metadata": {
        "id": "wisBRsvWEJYR",
        "colab_type": "text"
      },
      "source": [
        "## Pergunta: carregando as notas\n",
        "\n",
        "- os dados `https://raw.githubusercontent.com/alura-cursos/formacao-data-science/master/ratings.csv` devem ser carregado em `notas`\n",
        "- renomeie as colunas para `usuarioId`, `filmeId`, `nota` e `momento`"
      ]
    },
    {
      "cell_type": "code",
      "metadata": {
        "id": "rcYhRqNqEJYR",
        "colab_type": "code",
        "colab": {}
      },
      "source": [
        "# solução\n",
        "notas = pd.read_csv('https://raw.githubusercontent.com/alura-cursos/formacao-data-science/master/ratings.csv')\n",
        "notas.columns = ['usuarioId','filmeId','nota','momento']"
      ],
      "execution_count": 0,
      "outputs": []
    },
    {
      "cell_type": "code",
      "metadata": {
        "id": "cNmw_vUYEJYT",
        "colab_type": "code",
        "outputId": "b9d1f287-8aad-4b3f-dafb-bb5e98e49b62",
        "colab": {
          "base_uri": "https://localhost:8080/",
          "height": 419
        }
      },
      "source": [
        "notas"
      ],
      "execution_count": 70,
      "outputs": [
        {
          "output_type": "execute_result",
          "data": {
            "text/html": [
              "<div>\n",
              "<style scoped>\n",
              "    .dataframe tbody tr th:only-of-type {\n",
              "        vertical-align: middle;\n",
              "    }\n",
              "\n",
              "    .dataframe tbody tr th {\n",
              "        vertical-align: top;\n",
              "    }\n",
              "\n",
              "    .dataframe thead th {\n",
              "        text-align: right;\n",
              "    }\n",
              "</style>\n",
              "<table border=\"1\" class=\"dataframe\">\n",
              "  <thead>\n",
              "    <tr style=\"text-align: right;\">\n",
              "      <th></th>\n",
              "      <th>usuarioId</th>\n",
              "      <th>filmeId</th>\n",
              "      <th>nota</th>\n",
              "      <th>momento</th>\n",
              "    </tr>\n",
              "  </thead>\n",
              "  <tbody>\n",
              "    <tr>\n",
              "      <th>0</th>\n",
              "      <td>1</td>\n",
              "      <td>1</td>\n",
              "      <td>4.0</td>\n",
              "      <td>964982703</td>\n",
              "    </tr>\n",
              "    <tr>\n",
              "      <th>1</th>\n",
              "      <td>1</td>\n",
              "      <td>3</td>\n",
              "      <td>4.0</td>\n",
              "      <td>964981247</td>\n",
              "    </tr>\n",
              "    <tr>\n",
              "      <th>2</th>\n",
              "      <td>1</td>\n",
              "      <td>6</td>\n",
              "      <td>4.0</td>\n",
              "      <td>964982224</td>\n",
              "    </tr>\n",
              "    <tr>\n",
              "      <th>3</th>\n",
              "      <td>1</td>\n",
              "      <td>47</td>\n",
              "      <td>5.0</td>\n",
              "      <td>964983815</td>\n",
              "    </tr>\n",
              "    <tr>\n",
              "      <th>4</th>\n",
              "      <td>1</td>\n",
              "      <td>50</td>\n",
              "      <td>5.0</td>\n",
              "      <td>964982931</td>\n",
              "    </tr>\n",
              "    <tr>\n",
              "      <th>...</th>\n",
              "      <td>...</td>\n",
              "      <td>...</td>\n",
              "      <td>...</td>\n",
              "      <td>...</td>\n",
              "    </tr>\n",
              "    <tr>\n",
              "      <th>100831</th>\n",
              "      <td>610</td>\n",
              "      <td>166534</td>\n",
              "      <td>4.0</td>\n",
              "      <td>1493848402</td>\n",
              "    </tr>\n",
              "    <tr>\n",
              "      <th>100832</th>\n",
              "      <td>610</td>\n",
              "      <td>168248</td>\n",
              "      <td>5.0</td>\n",
              "      <td>1493850091</td>\n",
              "    </tr>\n",
              "    <tr>\n",
              "      <th>100833</th>\n",
              "      <td>610</td>\n",
              "      <td>168250</td>\n",
              "      <td>5.0</td>\n",
              "      <td>1494273047</td>\n",
              "    </tr>\n",
              "    <tr>\n",
              "      <th>100834</th>\n",
              "      <td>610</td>\n",
              "      <td>168252</td>\n",
              "      <td>5.0</td>\n",
              "      <td>1493846352</td>\n",
              "    </tr>\n",
              "    <tr>\n",
              "      <th>100835</th>\n",
              "      <td>610</td>\n",
              "      <td>170875</td>\n",
              "      <td>3.0</td>\n",
              "      <td>1493846415</td>\n",
              "    </tr>\n",
              "  </tbody>\n",
              "</table>\n",
              "<p>100836 rows × 4 columns</p>\n",
              "</div>"
            ],
            "text/plain": [
              "        usuarioId  filmeId  nota     momento\n",
              "0               1        1   4.0   964982703\n",
              "1               1        3   4.0   964981247\n",
              "2               1        6   4.0   964982224\n",
              "3               1       47   5.0   964983815\n",
              "4               1       50   5.0   964982931\n",
              "...           ...      ...   ...         ...\n",
              "100831        610   166534   4.0  1493848402\n",
              "100832        610   168248   5.0  1493850091\n",
              "100833        610   168250   5.0  1494273047\n",
              "100834        610   168252   5.0  1493846352\n",
              "100835        610   170875   3.0  1493846415\n",
              "\n",
              "[100836 rows x 4 columns]"
            ]
          },
          "metadata": {
            "tags": []
          },
          "execution_count": 70
        }
      ]
    },
    {
      "cell_type": "markdown",
      "metadata": {
        "id": "VWHJ6egmEJYV",
        "colab_type": "text"
      },
      "source": [
        "## Pergunta: gere uma nova feature, a média dos votos por filme\n",
        "\n",
        "- crie uma nova coluna chamada `nota_media` dentro do dataframe `filmes`\n",
        "\n",
        "Dicas:\n",
        "- como filmeId já é o indice de seu dataframe filmes, se você possui uma série com o número de votos por filme, basta atribuir uma nova coluna normalmente que será usado o mesmo índice"
      ]
    },
    {
      "cell_type": "code",
      "metadata": {
        "id": "FpbJ3_DiEJYV",
        "colab_type": "code",
        "colab": {}
      },
      "source": [
        "# solução\n",
        "media_notas  = notas.groupby('filmeId').mean().nota\n",
        "filmes['nota_media'] = media_notas"
      ],
      "execution_count": 0,
      "outputs": []
    },
    {
      "cell_type": "code",
      "metadata": {
        "id": "LjdKNNHMEJYX",
        "colab_type": "code",
        "outputId": "e9ed6316-a0f6-4d4a-855c-a6e281f8db85",
        "colab": {
          "base_uri": "https://localhost:8080/",
          "height": 484
        }
      },
      "source": [
        "filmes"
      ],
      "execution_count": 72,
      "outputs": [
        {
          "output_type": "execute_result",
          "data": {
            "text/html": [
              "<div>\n",
              "<style scoped>\n",
              "    .dataframe tbody tr th:only-of-type {\n",
              "        vertical-align: middle;\n",
              "    }\n",
              "\n",
              "    .dataframe tbody tr th {\n",
              "        vertical-align: top;\n",
              "    }\n",
              "\n",
              "    .dataframe thead th {\n",
              "        text-align: right;\n",
              "    }\n",
              "</style>\n",
              "<table border=\"1\" class=\"dataframe\">\n",
              "  <thead>\n",
              "    <tr style=\"text-align: right;\">\n",
              "      <th></th>\n",
              "      <th>filmesId</th>\n",
              "      <th>titulo</th>\n",
              "      <th>generos</th>\n",
              "      <th>ano_de_lancamento</th>\n",
              "      <th>nota_media</th>\n",
              "    </tr>\n",
              "    <tr>\n",
              "      <th>filmesId</th>\n",
              "      <th></th>\n",
              "      <th></th>\n",
              "      <th></th>\n",
              "      <th></th>\n",
              "      <th></th>\n",
              "    </tr>\n",
              "  </thead>\n",
              "  <tbody>\n",
              "    <tr>\n",
              "      <th>1</th>\n",
              "      <td>1</td>\n",
              "      <td>Toy Story (1995)</td>\n",
              "      <td>Adventure|Animation|Children|Comedy|Fantasy</td>\n",
              "      <td>1995.0</td>\n",
              "      <td>3.920930</td>\n",
              "    </tr>\n",
              "    <tr>\n",
              "      <th>2</th>\n",
              "      <td>2</td>\n",
              "      <td>Jumanji (1995)</td>\n",
              "      <td>Adventure|Children|Fantasy</td>\n",
              "      <td>1995.0</td>\n",
              "      <td>3.431818</td>\n",
              "    </tr>\n",
              "    <tr>\n",
              "      <th>3</th>\n",
              "      <td>3</td>\n",
              "      <td>Grumpier Old Men (1995)</td>\n",
              "      <td>Comedy|Romance</td>\n",
              "      <td>1995.0</td>\n",
              "      <td>3.259615</td>\n",
              "    </tr>\n",
              "    <tr>\n",
              "      <th>4</th>\n",
              "      <td>4</td>\n",
              "      <td>Waiting to Exhale (1995)</td>\n",
              "      <td>Comedy|Drama|Romance</td>\n",
              "      <td>1995.0</td>\n",
              "      <td>2.357143</td>\n",
              "    </tr>\n",
              "    <tr>\n",
              "      <th>5</th>\n",
              "      <td>5</td>\n",
              "      <td>Father of the Bride Part II (1995)</td>\n",
              "      <td>Comedy</td>\n",
              "      <td>1995.0</td>\n",
              "      <td>3.071429</td>\n",
              "    </tr>\n",
              "    <tr>\n",
              "      <th>...</th>\n",
              "      <td>...</td>\n",
              "      <td>...</td>\n",
              "      <td>...</td>\n",
              "      <td>...</td>\n",
              "      <td>...</td>\n",
              "    </tr>\n",
              "    <tr>\n",
              "      <th>193581</th>\n",
              "      <td>193581</td>\n",
              "      <td>Black Butler: Book of the Atlantic (2017)</td>\n",
              "      <td>Action|Animation|Comedy|Fantasy</td>\n",
              "      <td>2017.0</td>\n",
              "      <td>4.000000</td>\n",
              "    </tr>\n",
              "    <tr>\n",
              "      <th>193583</th>\n",
              "      <td>193583</td>\n",
              "      <td>No Game No Life: Zero (2017)</td>\n",
              "      <td>Animation|Comedy|Fantasy</td>\n",
              "      <td>2017.0</td>\n",
              "      <td>3.500000</td>\n",
              "    </tr>\n",
              "    <tr>\n",
              "      <th>193585</th>\n",
              "      <td>193585</td>\n",
              "      <td>Flint (2017)</td>\n",
              "      <td>Drama</td>\n",
              "      <td>2017.0</td>\n",
              "      <td>3.500000</td>\n",
              "    </tr>\n",
              "    <tr>\n",
              "      <th>193587</th>\n",
              "      <td>193587</td>\n",
              "      <td>Bungo Stray Dogs: Dead Apple (2018)</td>\n",
              "      <td>Action|Animation</td>\n",
              "      <td>2018.0</td>\n",
              "      <td>3.500000</td>\n",
              "    </tr>\n",
              "    <tr>\n",
              "      <th>193609</th>\n",
              "      <td>193609</td>\n",
              "      <td>Andrew Dice Clay: Dice Rules (1991)</td>\n",
              "      <td>Comedy</td>\n",
              "      <td>1991.0</td>\n",
              "      <td>4.000000</td>\n",
              "    </tr>\n",
              "  </tbody>\n",
              "</table>\n",
              "<p>9742 rows × 5 columns</p>\n",
              "</div>"
            ],
            "text/plain": [
              "          filmesId  ... nota_media\n",
              "filmesId            ...           \n",
              "1                1  ...   3.920930\n",
              "2                2  ...   3.431818\n",
              "3                3  ...   3.259615\n",
              "4                4  ...   2.357143\n",
              "5                5  ...   3.071429\n",
              "...            ...  ...        ...\n",
              "193581      193581  ...   4.000000\n",
              "193583      193583  ...   3.500000\n",
              "193585      193585  ...   3.500000\n",
              "193587      193587  ...   3.500000\n",
              "193609      193609  ...   4.000000\n",
              "\n",
              "[9742 rows x 5 columns]"
            ]
          },
          "metadata": {
            "tags": []
          },
          "execution_count": 72
        }
      ]
    },
    {
      "cell_type": "markdown",
      "metadata": {
        "id": "EUjeurhbEJYb",
        "colab_type": "text"
      },
      "source": [
        "## Pergunta: remova os filmes com menos de 50 avaliações\n",
        "\n",
        "- conte o número de notas por filme\n",
        "- adicione uma coluna nova chamada `total_de_votos` a `filmes` que representa o número de avaliações que aquele filme teve no conjunto de dados\n",
        "- remova os que tem 49 ou menos de `filmes`"
      ]
    },
    {
      "cell_type": "markdown",
      "metadata": {
        "id": "-wOaVJ07EJYb",
        "colab_type": "text"
      },
      "source": [
        "## Solução"
      ]
    },
    {
      "cell_type": "code",
      "metadata": {
        "id": "OgB6vzUGEJYc",
        "colab_type": "code",
        "colab": {}
      },
      "source": [
        "# solução para calcular o total de votos por filme\n",
        "total_votos  = notas.groupby('filmeId').count()"
      ],
      "execution_count": 0,
      "outputs": []
    },
    {
      "cell_type": "code",
      "metadata": {
        "id": "QQ9qXGvKEJYe",
        "colab_type": "code",
        "outputId": "aa412326-e511-43f3-c000-ead82d101003",
        "colab": {
          "base_uri": "https://localhost:8080/",
          "height": 238
        }
      },
      "source": [
        "# solução para criar a nova coluna e filtrar os filmes\n",
        "filmes['total_de_votos'] = total_votos.nota\n",
        "\n",
        "filmes = filmes.drop(filmes[filmes['total_de_votos'] < 50].index)\n",
        "\n",
        "#filmes\n",
        "nota_media_generos = filmes.groupby('generos').mean().nota_media\n",
        "nota_media_generos"
      ],
      "execution_count": 74,
      "outputs": [
        {
          "output_type": "execute_result",
          "data": {
            "text/plain": [
              "generos\n",
              "Action|Adventure                              4.126964\n",
              "Action|Adventure|Animation|Children|Comedy    3.836000\n",
              "Action|Adventure|Children|Comedy|Fantasy      3.570175\n",
              "Action|Adventure|Comedy                       3.366674\n",
              "Action|Adventure|Comedy|Crime                 2.916058\n",
              "                                                ...   \n",
              "Musical|Romance                               3.937500\n",
              "Mystery|Sci-Fi|Thriller                       3.879987\n",
              "Mystery|Thriller                              4.119972\n",
              "Sci-Fi|IMAX                                   3.993151\n",
              "Thriller                                      3.992105\n",
              "Name: nota_media, Length: 210, dtype: float64"
            ]
          },
          "metadata": {
            "tags": []
          },
          "execution_count": 74
        }
      ]
    },
    {
      "cell_type": "code",
      "metadata": {
        "id": "X0e3xBd2EJYg",
        "colab_type": "code",
        "outputId": "461632b5-1b94-49dc-bc31-771c758987a3",
        "colab": {
          "base_uri": "https://localhost:8080/",
          "height": 518
        }
      },
      "source": [
        "filmes"
      ],
      "execution_count": 75,
      "outputs": [
        {
          "output_type": "execute_result",
          "data": {
            "text/html": [
              "<div>\n",
              "<style scoped>\n",
              "    .dataframe tbody tr th:only-of-type {\n",
              "        vertical-align: middle;\n",
              "    }\n",
              "\n",
              "    .dataframe tbody tr th {\n",
              "        vertical-align: top;\n",
              "    }\n",
              "\n",
              "    .dataframe thead th {\n",
              "        text-align: right;\n",
              "    }\n",
              "</style>\n",
              "<table border=\"1\" class=\"dataframe\">\n",
              "  <thead>\n",
              "    <tr style=\"text-align: right;\">\n",
              "      <th></th>\n",
              "      <th>filmesId</th>\n",
              "      <th>titulo</th>\n",
              "      <th>generos</th>\n",
              "      <th>ano_de_lancamento</th>\n",
              "      <th>nota_media</th>\n",
              "      <th>total_de_votos</th>\n",
              "    </tr>\n",
              "    <tr>\n",
              "      <th>filmesId</th>\n",
              "      <th></th>\n",
              "      <th></th>\n",
              "      <th></th>\n",
              "      <th></th>\n",
              "      <th></th>\n",
              "      <th></th>\n",
              "    </tr>\n",
              "  </thead>\n",
              "  <tbody>\n",
              "    <tr>\n",
              "      <th>1</th>\n",
              "      <td>1</td>\n",
              "      <td>Toy Story (1995)</td>\n",
              "      <td>Adventure|Animation|Children|Comedy|Fantasy</td>\n",
              "      <td>1995.0</td>\n",
              "      <td>3.920930</td>\n",
              "      <td>215.0</td>\n",
              "    </tr>\n",
              "    <tr>\n",
              "      <th>2</th>\n",
              "      <td>2</td>\n",
              "      <td>Jumanji (1995)</td>\n",
              "      <td>Adventure|Children|Fantasy</td>\n",
              "      <td>1995.0</td>\n",
              "      <td>3.431818</td>\n",
              "      <td>110.0</td>\n",
              "    </tr>\n",
              "    <tr>\n",
              "      <th>3</th>\n",
              "      <td>3</td>\n",
              "      <td>Grumpier Old Men (1995)</td>\n",
              "      <td>Comedy|Romance</td>\n",
              "      <td>1995.0</td>\n",
              "      <td>3.259615</td>\n",
              "      <td>52.0</td>\n",
              "    </tr>\n",
              "    <tr>\n",
              "      <th>6</th>\n",
              "      <td>6</td>\n",
              "      <td>Heat (1995)</td>\n",
              "      <td>Action|Crime|Thriller</td>\n",
              "      <td>1995.0</td>\n",
              "      <td>3.946078</td>\n",
              "      <td>102.0</td>\n",
              "    </tr>\n",
              "    <tr>\n",
              "      <th>7</th>\n",
              "      <td>7</td>\n",
              "      <td>Sabrina (1995)</td>\n",
              "      <td>Comedy|Romance</td>\n",
              "      <td>1995.0</td>\n",
              "      <td>3.185185</td>\n",
              "      <td>54.0</td>\n",
              "    </tr>\n",
              "    <tr>\n",
              "      <th>...</th>\n",
              "      <td>...</td>\n",
              "      <td>...</td>\n",
              "      <td>...</td>\n",
              "      <td>...</td>\n",
              "      <td>...</td>\n",
              "      <td>...</td>\n",
              "    </tr>\n",
              "    <tr>\n",
              "      <th>109374</th>\n",
              "      <td>109374</td>\n",
              "      <td>Grand Budapest Hotel, The (2014)</td>\n",
              "      <td>Comedy|Drama</td>\n",
              "      <td>2014.0</td>\n",
              "      <td>3.778846</td>\n",
              "      <td>52.0</td>\n",
              "    </tr>\n",
              "    <tr>\n",
              "      <th>109487</th>\n",
              "      <td>109487</td>\n",
              "      <td>Interstellar (2014)</td>\n",
              "      <td>Sci-Fi|IMAX</td>\n",
              "      <td>2014.0</td>\n",
              "      <td>3.993151</td>\n",
              "      <td>73.0</td>\n",
              "    </tr>\n",
              "    <tr>\n",
              "      <th>112852</th>\n",
              "      <td>112852</td>\n",
              "      <td>Guardians of the Galaxy (2014)</td>\n",
              "      <td>Action|Adventure|Sci-Fi</td>\n",
              "      <td>2014.0</td>\n",
              "      <td>4.050847</td>\n",
              "      <td>59.0</td>\n",
              "    </tr>\n",
              "    <tr>\n",
              "      <th>116797</th>\n",
              "      <td>116797</td>\n",
              "      <td>The Imitation Game (2014)</td>\n",
              "      <td>Drama|Thriller|War</td>\n",
              "      <td>2014.0</td>\n",
              "      <td>4.020000</td>\n",
              "      <td>50.0</td>\n",
              "    </tr>\n",
              "    <tr>\n",
              "      <th>122904</th>\n",
              "      <td>122904</td>\n",
              "      <td>Deadpool (2016)</td>\n",
              "      <td>Action|Adventure|Comedy|Sci-Fi</td>\n",
              "      <td>2016.0</td>\n",
              "      <td>3.833333</td>\n",
              "      <td>54.0</td>\n",
              "    </tr>\n",
              "  </tbody>\n",
              "</table>\n",
              "<p>468 rows × 6 columns</p>\n",
              "</div>"
            ],
            "text/plain": [
              "          filmesId  ... total_de_votos\n",
              "filmesId            ...               \n",
              "1                1  ...          215.0\n",
              "2                2  ...          110.0\n",
              "3                3  ...           52.0\n",
              "6                6  ...          102.0\n",
              "7                7  ...           54.0\n",
              "...            ...  ...            ...\n",
              "109374      109374  ...           52.0\n",
              "109487      109487  ...           73.0\n",
              "112852      112852  ...           59.0\n",
              "116797      116797  ...           50.0\n",
              "122904      122904  ...           54.0\n",
              "\n",
              "[468 rows x 6 columns]"
            ]
          },
          "metadata": {
            "tags": []
          },
          "execution_count": 75
        }
      ]
    },
    {
      "cell_type": "markdown",
      "metadata": {
        "id": "AYfMsB8HEJYi",
        "colab_type": "text"
      },
      "source": [
        "# Visualizando os dados gerais"
      ]
    },
    {
      "cell_type": "markdown",
      "metadata": {
        "id": "3MKDo6o4EJYi",
        "colab_type": "text"
      },
      "source": [
        "## Pergunta: Visualize as notas médias\n",
        "\n",
        "- histograma\n",
        "- cummulative distribution function\n",
        "\n",
        "Dicas:\n",
        "\n",
        "- lembre-se de colocar um título nas imagens além de nomes nos eixos x e y\n",
        "- para gerar a versão cumulativa lembre-se de usar os parâmetros `hist_kws` e `kde_kws` para definir `'cumulative'=True`"
      ]
    },
    {
      "cell_type": "code",
      "metadata": {
        "id": "ShZbGmIJEJYj",
        "colab_type": "code",
        "outputId": "e1e8cb00-3000-457a-8a17-a8381071e6b5",
        "colab": {
          "base_uri": "https://localhost:8080/",
          "height": 296
        }
      },
      "source": [
        "# solução histograma\n",
        "import matplotlib.pyplot as plt\n",
        "\n",
        "media_notas  = notas.groupby('filmeId').mean().nota\n",
        "sns.distplot(a = media_notas,\n",
        "             axlabel = 'média das notas dos filmes',\n",
        "             color = 'red')\n"
      ],
      "execution_count": 76,
      "outputs": [
        {
          "output_type": "execute_result",
          "data": {
            "text/plain": [
              "<matplotlib.axes._subplots.AxesSubplot at 0x7ff235e564e0>"
            ]
          },
          "metadata": {
            "tags": []
          },
          "execution_count": 76
        },
        {
          "output_type": "display_data",
          "data": {
            "image/png": "[encoded data removed]",
            "text/plain": [
              "<Figure size 432x288 with 1 Axes>"
            ]
          },
          "metadata": {
            "tags": []
          }
        }
      ]
    },
    {
      "cell_type": "code",
      "metadata": {
        "id": "rDQBA6DREJYl",
        "colab_type": "code",
        "outputId": "3609df1a-1d96-4794-9e3f-e881550435bc",
        "colab": {
          "base_uri": "https://localhost:8080/",
          "height": 296
        }
      },
      "source": [
        "# solução cumulativa\n",
        "media_notas  = notas.groupby('filmeId').mean().nota\n",
        "sns.distplot(a = media_notas,\n",
        "             axlabel = 'média cumulativa das notas dos filmes',\n",
        "             color = 'blue',\n",
        "             hist_kws = {'cumulative':True})"
      ],
      "execution_count": 77,
      "outputs": [
        {
          "output_type": "execute_result",
          "data": {
            "text/plain": [
              "<matplotlib.axes._subplots.AxesSubplot at 0x7ff241677f28>"
            ]
          },
          "metadata": {
            "tags": []
          },
          "execution_count": 77
        },
        {
          "output_type": "display_data",
          "data": {
            "image/png": "[encoded data removed]",
            "text/plain": [
              "<Figure size 432x288 with 1 Axes>"
            ]
          },
          "metadata": {
            "tags": []
          }
        }
      ]
    },
    {
      "cell_type": "markdown",
      "metadata": {
        "id": "TicXeAv2EJYm",
        "colab_type": "text"
      },
      "source": [
        "## Pergunta: Visualize o total de votos\n",
        "\n",
        "- histograma\n",
        "- cummulative distribution function"
      ]
    },
    {
      "cell_type": "code",
      "metadata": {
        "id": "Bf_uooK8EJYn",
        "colab_type": "code",
        "outputId": "f5230b63-ba51-4e33-efbd-5f07473a4d3b",
        "colab": {
          "base_uri": "https://localhost:8080/",
          "height": 296
        }
      },
      "source": [
        "# solução histograma\n",
        "total_votos  = notas.groupby('filmeId').count()\n",
        "\n",
        "sns.distplot(a = total_votos.nota,\n",
        "             axlabel = 'total de votos dos filmes',\n",
        "             color = 'red')"
      ],
      "execution_count": 78,
      "outputs": [
        {
          "output_type": "execute_result",
          "data": {
            "text/plain": [
              "<matplotlib.axes._subplots.AxesSubplot at 0x7ff22ebe69b0>"
            ]
          },
          "metadata": {
            "tags": []
          },
          "execution_count": 78
        },
        {
          "output_type": "display_data",
          "data": {
            "image/png": "[encoded data removed]",
            "text/plain": [
              "<Figure size 432x288 with 1 Axes>"
            ]
          },
          "metadata": {
            "tags": []
          }
        }
      ]
    },
    {
      "cell_type": "code",
      "metadata": {
        "id": "o2B-hyuQEJYp",
        "colab_type": "code",
        "outputId": "6541fd1a-dea0-4910-a0ae-a47d83ed64dd",
        "colab": {
          "base_uri": "https://localhost:8080/",
          "height": 296
        }
      },
      "source": [
        "# solução cumulativa\n",
        "total_votos  = notas.groupby('filmeId').count()\n",
        "sns.distplot(a = total_votos.nota,\n",
        "             axlabel = 'total de votos dos filmes',\n",
        "             color = 'black',\n",
        "             hist_kws = {'cumulative':True})"
      ],
      "execution_count": 79,
      "outputs": [
        {
          "output_type": "execute_result",
          "data": {
            "text/plain": [
              "<matplotlib.axes._subplots.AxesSubplot at 0x7ff22ebfcf60>"
            ]
          },
          "metadata": {
            "tags": []
          },
          "execution_count": 79
        },
        {
          "output_type": "display_data",
          "data": {
            "image/png": "[encoded data removed]",
            "text/plain": [
              "<Figure size 432x288 with 1 Axes>"
            ]
          },
          "metadata": {
            "tags": []
          }
        }
      ]
    },
    {
      "cell_type": "markdown",
      "metadata": {
        "id": "Lj_KS4LREJYt",
        "colab_type": "text"
      },
      "source": [
        "## Pergunta: 20% dos filmes do dataframe tem nota maior que? \n",
        "\n",
        "- lembre-se da função `quantile` do pandas\n",
        "\n",
        "#Não foi definida a quantidade em que a nota deve ser superior. Logo eu posso escolher o que eu quiser. Caso contrario defina primeiro e depois diga que eu selecionei errado."
      ]
    },
    {
      "cell_type": "code",
      "metadata": {
        "id": "vmojS92GEJYt",
        "colab_type": "code",
        "outputId": "33a9808a-3014-4fa9-a249-19ae8c9f2bc0",
        "colab": {
          "base_uri": "https://localhost:8080/",
          "height": 34
        }
      },
      "source": [
        "# solução\n",
        "nota_limite_dos_20_porcento = filmes['nota_media'].quantile(0.2)\n",
        "nota_limite_dos_20_porcento"
      ],
      "execution_count": 80,
      "outputs": [
        {
          "output_type": "execute_result",
          "data": {
            "text/plain": [
              "3.3742857142857146"
            ]
          },
          "metadata": {
            "tags": []
          },
          "execution_count": 80
        }
      ]
    },
    {
      "cell_type": "code",
      "metadata": {
        "id": "rKMOpptrEJYv",
        "colab_type": "code",
        "outputId": "4577e096-2f5a-4806-c209-278067b23f08",
        "colab": {
          "base_uri": "https://localhost:8080/",
          "height": 34
        }
      },
      "source": [
        "print(\"20 porcento dos filmes tem nota maior que de %.2f\" % nota_limite_dos_20_porcento)"
      ],
      "execution_count": 81,
      "outputs": [
        {
          "output_type": "stream",
          "text": [
            "20 porcento dos filmes tem nota maior que de 3.37\n"
          ],
          "name": "stdout"
        }
      ]
    },
    {
      "cell_type": "markdown",
      "metadata": {
        "id": "rfUWyBytEJYy",
        "colab_type": "text"
      },
      "source": [
        "## Vamos separar a coluna `generos` em diversas colunas.\n",
        "\n",
        "- O código já está pronto."
      ]
    },
    {
      "cell_type": "code",
      "metadata": {
        "id": "9CnbjgYnEJY0",
        "colab_type": "code",
        "outputId": "1dfa54e8-7299-46b9-e66b-45a0f31095d2",
        "colab": {
          "base_uri": "https://localhost:8080/",
          "height": 34
        }
      },
      "source": [
        "filmes['generos'] = filmes['generos'].str.replace('-', '')\n",
        "generos = filmes['generos'].str.get_dummies()\n",
        "print(\"Temos %d generos distintos\" % generos.shape[1])"
      ],
      "execution_count": 82,
      "outputs": [
        {
          "output_type": "stream",
          "text": [
            "Temos 19 generos distintos\n"
          ],
          "name": "stdout"
        }
      ]
    },
    {
      "cell_type": "code",
      "metadata": {
        "id": "CypWMLzgEJY2",
        "colab_type": "code",
        "outputId": "436e5fd2-f69d-43c8-82de-0954f623e11e",
        "colab": {
          "base_uri": "https://localhost:8080/",
          "height": 357
        }
      },
      "source": [
        "filmes = filmes.join(generos).drop(columns=['generos'], axis=1)\n",
        "filmes.head()"
      ],
      "execution_count": 83,
      "outputs": [
        {
          "output_type": "execute_result",
          "data": {
            "text/html": [
              "<div>\n",
              "<style scoped>\n",
              "    .dataframe tbody tr th:only-of-type {\n",
              "        vertical-align: middle;\n",
              "    }\n",
              "\n",
              "    .dataframe tbody tr th {\n",
              "        vertical-align: top;\n",
              "    }\n",
              "\n",
              "    .dataframe thead th {\n",
              "        text-align: right;\n",
              "    }\n",
              "</style>\n",
              "<table border=\"1\" class=\"dataframe\">\n",
              "  <thead>\n",
              "    <tr style=\"text-align: right;\">\n",
              "      <th></th>\n",
              "      <th>filmesId</th>\n",
              "      <th>titulo</th>\n",
              "      <th>ano_de_lancamento</th>\n",
              "      <th>nota_media</th>\n",
              "      <th>total_de_votos</th>\n",
              "      <th>Action</th>\n",
              "      <th>Adventure</th>\n",
              "      <th>Animation</th>\n",
              "      <th>Children</th>\n",
              "      <th>Comedy</th>\n",
              "      <th>Crime</th>\n",
              "      <th>Documentary</th>\n",
              "      <th>Drama</th>\n",
              "      <th>Fantasy</th>\n",
              "      <th>FilmNoir</th>\n",
              "      <th>Horror</th>\n",
              "      <th>IMAX</th>\n",
              "      <th>Musical</th>\n",
              "      <th>Mystery</th>\n",
              "      <th>Romance</th>\n",
              "      <th>SciFi</th>\n",
              "      <th>Thriller</th>\n",
              "      <th>War</th>\n",
              "      <th>Western</th>\n",
              "    </tr>\n",
              "    <tr>\n",
              "      <th>filmesId</th>\n",
              "      <th></th>\n",
              "      <th></th>\n",
              "      <th></th>\n",
              "      <th></th>\n",
              "      <th></th>\n",
              "      <th></th>\n",
              "      <th></th>\n",
              "      <th></th>\n",
              "      <th></th>\n",
              "      <th></th>\n",
              "      <th></th>\n",
              "      <th></th>\n",
              "      <th></th>\n",
              "      <th></th>\n",
              "      <th></th>\n",
              "      <th></th>\n",
              "      <th></th>\n",
              "      <th></th>\n",
              "      <th></th>\n",
              "      <th></th>\n",
              "      <th></th>\n",
              "      <th></th>\n",
              "      <th></th>\n",
              "      <th></th>\n",
              "    </tr>\n",
              "  </thead>\n",
              "  <tbody>\n",
              "    <tr>\n",
              "      <th>1</th>\n",
              "      <td>1</td>\n",
              "      <td>Toy Story (1995)</td>\n",
              "      <td>1995.0</td>\n",
              "      <td>3.920930</td>\n",
              "      <td>215.0</td>\n",
              "      <td>0</td>\n",
              "      <td>1</td>\n",
              "      <td>1</td>\n",
              "      <td>1</td>\n",
              "      <td>1</td>\n",
              "      <td>0</td>\n",
              "      <td>0</td>\n",
              "      <td>0</td>\n",
              "      <td>1</td>\n",
              "      <td>0</td>\n",
              "      <td>0</td>\n",
              "      <td>0</td>\n",
              "      <td>0</td>\n",
              "      <td>0</td>\n",
              "      <td>0</td>\n",
              "      <td>0</td>\n",
              "      <td>0</td>\n",
              "      <td>0</td>\n",
              "      <td>0</td>\n",
              "    </tr>\n",
              "    <tr>\n",
              "      <th>2</th>\n",
              "      <td>2</td>\n",
              "      <td>Jumanji (1995)</td>\n",
              "      <td>1995.0</td>\n",
              "      <td>3.431818</td>\n",
              "      <td>110.0</td>\n",
              "      <td>0</td>\n",
              "      <td>1</td>\n",
              "      <td>0</td>\n",
              "      <td>1</td>\n",
              "      <td>0</td>\n",
              "      <td>0</td>\n",
              "      <td>0</td>\n",
              "      <td>0</td>\n",
              "      <td>1</td>\n",
              "      <td>0</td>\n",
              "      <td>0</td>\n",
              "      <td>0</td>\n",
              "      <td>0</td>\n",
              "      <td>0</td>\n",
              "      <td>0</td>\n",
              "      <td>0</td>\n",
              "      <td>0</td>\n",
              "      <td>0</td>\n",
              "      <td>0</td>\n",
              "    </tr>\n",
              "    <tr>\n",
              "      <th>3</th>\n",
              "      <td>3</td>\n",
              "      <td>Grumpier Old Men (1995)</td>\n",
              "      <td>1995.0</td>\n",
              "      <td>3.259615</td>\n",
              "      <td>52.0</td>\n",
              "      <td>0</td>\n",
              "      <td>0</td>\n",
              "      <td>0</td>\n",
              "      <td>0</td>\n",
              "      <td>1</td>\n",
              "      <td>0</td>\n",
              "      <td>0</td>\n",
              "      <td>0</td>\n",
              "      <td>0</td>\n",
              "      <td>0</td>\n",
              "      <td>0</td>\n",
              "      <td>0</td>\n",
              "      <td>0</td>\n",
              "      <td>0</td>\n",
              "      <td>1</td>\n",
              "      <td>0</td>\n",
              "      <td>0</td>\n",
              "      <td>0</td>\n",
              "      <td>0</td>\n",
              "    </tr>\n",
              "    <tr>\n",
              "      <th>6</th>\n",
              "      <td>6</td>\n",
              "      <td>Heat (1995)</td>\n",
              "      <td>1995.0</td>\n",
              "      <td>3.946078</td>\n",
              "      <td>102.0</td>\n",
              "      <td>1</td>\n",
              "      <td>0</td>\n",
              "      <td>0</td>\n",
              "      <td>0</td>\n",
              "      <td>0</td>\n",
              "      <td>1</td>\n",
              "      <td>0</td>\n",
              "      <td>0</td>\n",
              "      <td>0</td>\n",
              "      <td>0</td>\n",
              "      <td>0</td>\n",
              "      <td>0</td>\n",
              "      <td>0</td>\n",
              "      <td>0</td>\n",
              "      <td>0</td>\n",
              "      <td>0</td>\n",
              "      <td>1</td>\n",
              "      <td>0</td>\n",
              "      <td>0</td>\n",
              "    </tr>\n",
              "    <tr>\n",
              "      <th>7</th>\n",
              "      <td>7</td>\n",
              "      <td>Sabrina (1995)</td>\n",
              "      <td>1995.0</td>\n",
              "      <td>3.185185</td>\n",
              "      <td>54.0</td>\n",
              "      <td>0</td>\n",
              "      <td>0</td>\n",
              "      <td>0</td>\n",
              "      <td>0</td>\n",
              "      <td>1</td>\n",
              "      <td>0</td>\n",
              "      <td>0</td>\n",
              "      <td>0</td>\n",
              "      <td>0</td>\n",
              "      <td>0</td>\n",
              "      <td>0</td>\n",
              "      <td>0</td>\n",
              "      <td>0</td>\n",
              "      <td>0</td>\n",
              "      <td>1</td>\n",
              "      <td>0</td>\n",
              "      <td>0</td>\n",
              "      <td>0</td>\n",
              "      <td>0</td>\n",
              "    </tr>\n",
              "  </tbody>\n",
              "</table>\n",
              "</div>"
            ],
            "text/plain": [
              "          filmesId                   titulo  ...  War  Western\n",
              "filmesId                                     ...              \n",
              "1                1         Toy Story (1995)  ...    0        0\n",
              "2                2           Jumanji (1995)  ...    0        0\n",
              "3                3  Grumpier Old Men (1995)  ...    0        0\n",
              "6                6              Heat (1995)  ...    0        0\n",
              "7                7           Sabrina (1995)  ...    0        0\n",
              "\n",
              "[5 rows x 24 columns]"
            ]
          },
          "metadata": {
            "tags": []
          },
          "execution_count": 83
        }
      ]
    },
    {
      "cell_type": "markdown",
      "metadata": {
        "id": "QkI4JeSFEJY4",
        "colab_type": "text"
      },
      "source": [
        "## Pergunta: visualização de quantos filmes existem por genero\n",
        "\n",
        "- Para cada um dos generos você deve agrupar o número de filmes\n",
        "- Ordene as barras, na esquerda o genero com mais filmes, na direita o que tem menos filmes\n",
        "\n",
        "Dica:\n",
        "\n",
        "- Para fazer a soma de uma ou mais colunas individualmente você pode usar `seu_dataframe.sum()`\n",
        "- Não precisa usar o dataframe `filmes`, somente o dataframe `generos`\n",
        "- Em certas situações é mais fácil usar as funções de plotagem do pandas ao invés do seaborn"
      ]
    },
    {
      "cell_type": "code",
      "metadata": {
        "id": "SKWGd6S0EJY4",
        "colab_type": "code",
        "outputId": "e2863698-14d5-453d-b363-93c66545d13a",
        "colab": {
          "base_uri": "https://localhost:8080/",
          "height": 356
        }
      },
      "source": [
        "# solução\n",
        "generos.sum().sort_values(ascending = False).plot(kind = 'bar',title = 'Quantidade de filmes por genero')\n"
      ],
      "execution_count": 84,
      "outputs": [
        {
          "output_type": "execute_result",
          "data": {
            "text/plain": [
              "<matplotlib.axes._subplots.AxesSubplot at 0x7ff22edfb550>"
            ]
          },
          "metadata": {
            "tags": []
          },
          "execution_count": 84
        },
        {
          "output_type": "display_data",
          "data": {
            "image/png": "[encoded data removed]",
            "text/plain": [
              "<Figure size 432x288 with 1 Axes>"
            ]
          },
          "metadata": {
            "tags": []
          }
        }
      ]
    },
    {
      "cell_type": "markdown",
      "metadata": {
        "id": "cv8xFfPZEJY6",
        "colab_type": "text"
      },
      "source": [
        "## Pergunta: Quais são os 5 generos com mais filmes?\n",
        "\n",
        "Dica:\n",
        "\n",
        "- `sort_values()` pode ordenar uma Series do pandas"
      ]
    },
    {
      "cell_type": "code",
      "metadata": {
        "id": "joE5XhVlEJY7",
        "colab_type": "code",
        "colab": {}
      },
      "source": [
        "# solução\n",
        "top5_generos_em_quantidade_de_filmes = generos.sum().sort_values(ascending = False)\n",
        "top5_generos_em_quantidade_de_filmes = top5_generos_em_quantidade_de_filmes.head()"
      ],
      "execution_count": 0,
      "outputs": []
    },
    {
      "cell_type": "code",
      "metadata": {
        "id": "ZlDO2irtEJY8",
        "colab_type": "code",
        "outputId": "4fc5b263-8423-4a68-83f3-e87d3a788e15",
        "colab": {
          "base_uri": "https://localhost:8080/",
          "height": 119
        }
      },
      "source": [
        "print(top5_generos_em_quantidade_de_filmes)"
      ],
      "execution_count": 86,
      "outputs": [
        {
          "output_type": "stream",
          "text": [
            "Comedy       184\n",
            "Drama        178\n",
            "Action       164\n",
            "Adventure    133\n",
            "Thriller     126\n",
            "dtype: int64\n"
          ],
          "name": "stdout"
        }
      ]
    },
    {
      "cell_type": "markdown",
      "metadata": {
        "id": "mXjS03ZNEJY9",
        "colab_type": "text"
      },
      "source": [
        "## Pergunta: visualização de votos por genero\n",
        "\n",
        "- o código que gera os votos por genero já está pronto\n",
        "- ordene as categorias da mais visualizada para a menos visualizada\n",
        "- gere a visualização por genero"
      ]
    },
    {
      "cell_type": "code",
      "metadata": {
        "id": "qCwwgkuFEJY-",
        "colab_type": "code",
        "outputId": "cb696a42-d6d1-4a66-e0e2-ecd5bb4ac30f",
        "colab": {
          "base_uri": "https://localhost:8080/",
          "height": 439
        }
      },
      "source": [
        "votos_por_genero_por_filme = pd.DataFrame((generos.values.T * filmes['total_de_votos'].values).T, columns = generos.columns)\n",
        "votos_por_genero_por_filme"
      ],
      "execution_count": 87,
      "outputs": [
        {
          "output_type": "execute_result",
          "data": {
            "text/html": [
              "<div>\n",
              "<style scoped>\n",
              "    .dataframe tbody tr th:only-of-type {\n",
              "        vertical-align: middle;\n",
              "    }\n",
              "\n",
              "    .dataframe tbody tr th {\n",
              "        vertical-align: top;\n",
              "    }\n",
              "\n",
              "    .dataframe thead th {\n",
              "        text-align: right;\n",
              "    }\n",
              "</style>\n",
              "<table border=\"1\" class=\"dataframe\">\n",
              "  <thead>\n",
              "    <tr style=\"text-align: right;\">\n",
              "      <th></th>\n",
              "      <th>Action</th>\n",
              "      <th>Adventure</th>\n",
              "      <th>Animation</th>\n",
              "      <th>Children</th>\n",
              "      <th>Comedy</th>\n",
              "      <th>Crime</th>\n",
              "      <th>Documentary</th>\n",
              "      <th>Drama</th>\n",
              "      <th>Fantasy</th>\n",
              "      <th>FilmNoir</th>\n",
              "      <th>Horror</th>\n",
              "      <th>IMAX</th>\n",
              "      <th>Musical</th>\n",
              "      <th>Mystery</th>\n",
              "      <th>Romance</th>\n",
              "      <th>SciFi</th>\n",
              "      <th>Thriller</th>\n",
              "      <th>War</th>\n",
              "      <th>Western</th>\n",
              "    </tr>\n",
              "  </thead>\n",
              "  <tbody>\n",
              "    <tr>\n",
              "      <th>0</th>\n",
              "      <td>0.0</td>\n",
              "      <td>215.0</td>\n",
              "      <td>215.0</td>\n",
              "      <td>215.0</td>\n",
              "      <td>215.0</td>\n",
              "      <td>0.0</td>\n",
              "      <td>0.0</td>\n",
              "      <td>0.0</td>\n",
              "      <td>215.0</td>\n",
              "      <td>0.0</td>\n",
              "      <td>0.0</td>\n",
              "      <td>0.0</td>\n",
              "      <td>0.0</td>\n",
              "      <td>0.0</td>\n",
              "      <td>0.0</td>\n",
              "      <td>0.0</td>\n",
              "      <td>0.0</td>\n",
              "      <td>0.0</td>\n",
              "      <td>0.0</td>\n",
              "    </tr>\n",
              "    <tr>\n",
              "      <th>1</th>\n",
              "      <td>0.0</td>\n",
              "      <td>110.0</td>\n",
              "      <td>0.0</td>\n",
              "      <td>110.0</td>\n",
              "      <td>0.0</td>\n",
              "      <td>0.0</td>\n",
              "      <td>0.0</td>\n",
              "      <td>0.0</td>\n",
              "      <td>110.0</td>\n",
              "      <td>0.0</td>\n",
              "      <td>0.0</td>\n",
              "      <td>0.0</td>\n",
              "      <td>0.0</td>\n",
              "      <td>0.0</td>\n",
              "      <td>0.0</td>\n",
              "      <td>0.0</td>\n",
              "      <td>0.0</td>\n",
              "      <td>0.0</td>\n",
              "      <td>0.0</td>\n",
              "    </tr>\n",
              "    <tr>\n",
              "      <th>2</th>\n",
              "      <td>0.0</td>\n",
              "      <td>0.0</td>\n",
              "      <td>0.0</td>\n",
              "      <td>0.0</td>\n",
              "      <td>52.0</td>\n",
              "      <td>0.0</td>\n",
              "      <td>0.0</td>\n",
              "      <td>0.0</td>\n",
              "      <td>0.0</td>\n",
              "      <td>0.0</td>\n",
              "      <td>0.0</td>\n",
              "      <td>0.0</td>\n",
              "      <td>0.0</td>\n",
              "      <td>0.0</td>\n",
              "      <td>52.0</td>\n",
              "      <td>0.0</td>\n",
              "      <td>0.0</td>\n",
              "      <td>0.0</td>\n",
              "      <td>0.0</td>\n",
              "    </tr>\n",
              "    <tr>\n",
              "      <th>3</th>\n",
              "      <td>102.0</td>\n",
              "      <td>0.0</td>\n",
              "      <td>0.0</td>\n",
              "      <td>0.0</td>\n",
              "      <td>0.0</td>\n",
              "      <td>102.0</td>\n",
              "      <td>0.0</td>\n",
              "      <td>0.0</td>\n",
              "      <td>0.0</td>\n",
              "      <td>0.0</td>\n",
              "      <td>0.0</td>\n",
              "      <td>0.0</td>\n",
              "      <td>0.0</td>\n",
              "      <td>0.0</td>\n",
              "      <td>0.0</td>\n",
              "      <td>0.0</td>\n",
              "      <td>102.0</td>\n",
              "      <td>0.0</td>\n",
              "      <td>0.0</td>\n",
              "    </tr>\n",
              "    <tr>\n",
              "      <th>4</th>\n",
              "      <td>0.0</td>\n",
              "      <td>0.0</td>\n",
              "      <td>0.0</td>\n",
              "      <td>0.0</td>\n",
              "      <td>54.0</td>\n",
              "      <td>0.0</td>\n",
              "      <td>0.0</td>\n",
              "      <td>0.0</td>\n",
              "      <td>0.0</td>\n",
              "      <td>0.0</td>\n",
              "      <td>0.0</td>\n",
              "      <td>0.0</td>\n",
              "      <td>0.0</td>\n",
              "      <td>0.0</td>\n",
              "      <td>54.0</td>\n",
              "      <td>0.0</td>\n",
              "      <td>0.0</td>\n",
              "      <td>0.0</td>\n",
              "      <td>0.0</td>\n",
              "    </tr>\n",
              "    <tr>\n",
              "      <th>...</th>\n",
              "      <td>...</td>\n",
              "      <td>...</td>\n",
              "      <td>...</td>\n",
              "      <td>...</td>\n",
              "      <td>...</td>\n",
              "      <td>...</td>\n",
              "      <td>...</td>\n",
              "      <td>...</td>\n",
              "      <td>...</td>\n",
              "      <td>...</td>\n",
              "      <td>...</td>\n",
              "      <td>...</td>\n",
              "      <td>...</td>\n",
              "      <td>...</td>\n",
              "      <td>...</td>\n",
              "      <td>...</td>\n",
              "      <td>...</td>\n",
              "      <td>...</td>\n",
              "      <td>...</td>\n",
              "    </tr>\n",
              "    <tr>\n",
              "      <th>463</th>\n",
              "      <td>0.0</td>\n",
              "      <td>0.0</td>\n",
              "      <td>0.0</td>\n",
              "      <td>0.0</td>\n",
              "      <td>52.0</td>\n",
              "      <td>0.0</td>\n",
              "      <td>0.0</td>\n",
              "      <td>52.0</td>\n",
              "      <td>0.0</td>\n",
              "      <td>0.0</td>\n",
              "      <td>0.0</td>\n",
              "      <td>0.0</td>\n",
              "      <td>0.0</td>\n",
              "      <td>0.0</td>\n",
              "      <td>0.0</td>\n",
              "      <td>0.0</td>\n",
              "      <td>0.0</td>\n",
              "      <td>0.0</td>\n",
              "      <td>0.0</td>\n",
              "    </tr>\n",
              "    <tr>\n",
              "      <th>464</th>\n",
              "      <td>0.0</td>\n",
              "      <td>0.0</td>\n",
              "      <td>0.0</td>\n",
              "      <td>0.0</td>\n",
              "      <td>0.0</td>\n",
              "      <td>0.0</td>\n",
              "      <td>0.0</td>\n",
              "      <td>0.0</td>\n",
              "      <td>0.0</td>\n",
              "      <td>0.0</td>\n",
              "      <td>0.0</td>\n",
              "      <td>73.0</td>\n",
              "      <td>0.0</td>\n",
              "      <td>0.0</td>\n",
              "      <td>0.0</td>\n",
              "      <td>73.0</td>\n",
              "      <td>0.0</td>\n",
              "      <td>0.0</td>\n",
              "      <td>0.0</td>\n",
              "    </tr>\n",
              "    <tr>\n",
              "      <th>465</th>\n",
              "      <td>59.0</td>\n",
              "      <td>59.0</td>\n",
              "      <td>0.0</td>\n",
              "      <td>0.0</td>\n",
              "      <td>0.0</td>\n",
              "      <td>0.0</td>\n",
              "      <td>0.0</td>\n",
              "      <td>0.0</td>\n",
              "      <td>0.0</td>\n",
              "      <td>0.0</td>\n",
              "      <td>0.0</td>\n",
              "      <td>0.0</td>\n",
              "      <td>0.0</td>\n",
              "      <td>0.0</td>\n",
              "      <td>0.0</td>\n",
              "      <td>59.0</td>\n",
              "      <td>0.0</td>\n",
              "      <td>0.0</td>\n",
              "      <td>0.0</td>\n",
              "    </tr>\n",
              "    <tr>\n",
              "      <th>466</th>\n",
              "      <td>0.0</td>\n",
              "      <td>0.0</td>\n",
              "      <td>0.0</td>\n",
              "      <td>0.0</td>\n",
              "      <td>0.0</td>\n",
              "      <td>0.0</td>\n",
              "      <td>0.0</td>\n",
              "      <td>50.0</td>\n",
              "      <td>0.0</td>\n",
              "      <td>0.0</td>\n",
              "      <td>0.0</td>\n",
              "      <td>0.0</td>\n",
              "      <td>0.0</td>\n",
              "      <td>0.0</td>\n",
              "      <td>0.0</td>\n",
              "      <td>0.0</td>\n",
              "      <td>50.0</td>\n",
              "      <td>50.0</td>\n",
              "      <td>0.0</td>\n",
              "    </tr>\n",
              "    <tr>\n",
              "      <th>467</th>\n",
              "      <td>54.0</td>\n",
              "      <td>54.0</td>\n",
              "      <td>0.0</td>\n",
              "      <td>0.0</td>\n",
              "      <td>54.0</td>\n",
              "      <td>0.0</td>\n",
              "      <td>0.0</td>\n",
              "      <td>0.0</td>\n",
              "      <td>0.0</td>\n",
              "      <td>0.0</td>\n",
              "      <td>0.0</td>\n",
              "      <td>0.0</td>\n",
              "      <td>0.0</td>\n",
              "      <td>0.0</td>\n",
              "      <td>0.0</td>\n",
              "      <td>54.0</td>\n",
              "      <td>0.0</td>\n",
              "      <td>0.0</td>\n",
              "      <td>0.0</td>\n",
              "    </tr>\n",
              "  </tbody>\n",
              "</table>\n",
              "<p>468 rows × 19 columns</p>\n",
              "</div>"
            ],
            "text/plain": [
              "     Action  Adventure  Animation  Children  ...  SciFi  Thriller   War  Western\n",
              "0       0.0      215.0      215.0     215.0  ...    0.0       0.0   0.0      0.0\n",
              "1       0.0      110.0        0.0     110.0  ...    0.0       0.0   0.0      0.0\n",
              "2       0.0        0.0        0.0       0.0  ...    0.0       0.0   0.0      0.0\n",
              "3     102.0        0.0        0.0       0.0  ...    0.0     102.0   0.0      0.0\n",
              "4       0.0        0.0        0.0       0.0  ...    0.0       0.0   0.0      0.0\n",
              "..      ...        ...        ...       ...  ...    ...       ...   ...      ...\n",
              "463     0.0        0.0        0.0       0.0  ...    0.0       0.0   0.0      0.0\n",
              "464     0.0        0.0        0.0       0.0  ...   73.0       0.0   0.0      0.0\n",
              "465    59.0       59.0        0.0       0.0  ...   59.0       0.0   0.0      0.0\n",
              "466     0.0        0.0        0.0       0.0  ...    0.0      50.0  50.0      0.0\n",
              "467    54.0       54.0        0.0       0.0  ...   54.0       0.0   0.0      0.0\n",
              "\n",
              "[468 rows x 19 columns]"
            ]
          },
          "metadata": {
            "tags": []
          },
          "execution_count": 87
        }
      ]
    },
    {
      "cell_type": "code",
      "metadata": {
        "id": "NxuWg3cLEJZA",
        "colab_type": "code",
        "outputId": "2eb29c81-1d02-44e8-c2b4-c44defc40ce0",
        "colab": {
          "base_uri": "https://localhost:8080/",
          "height": 357
        }
      },
      "source": [
        "# solucão\n",
        "votos_por_genero_por_filme.sum().sort_values(ascending = False)"
      ],
      "execution_count": 88,
      "outputs": [
        {
          "output_type": "execute_result",
          "data": {
            "text/plain": [
              "Action         15734.0\n",
              "Drama          15445.0\n",
              "Comedy         15330.0\n",
              "Adventure      13117.0\n",
              "Thriller       11907.0\n",
              "SciFi           8989.0\n",
              "Crime           8649.0\n",
              "Romance         7444.0\n",
              "Fantasy         5993.0\n",
              "Children        4331.0\n",
              "Mystery         3452.0\n",
              "Animation       3066.0\n",
              "IMAX            2492.0\n",
              "Horror          2215.0\n",
              "War             2113.0\n",
              "Musical         1822.0\n",
              "Western          900.0\n",
              "FilmNoir         291.0\n",
              "Documentary      108.0\n",
              "dtype: float64"
            ]
          },
          "metadata": {
            "tags": []
          },
          "execution_count": 88
        }
      ]
    },
    {
      "cell_type": "code",
      "metadata": {
        "id": "mjKiwnSoEJZD",
        "colab_type": "code",
        "outputId": "cae208cd-23f3-42f5-c21a-00c5379456fe",
        "colab": {
          "base_uri": "https://localhost:8080/",
          "height": 356
        }
      },
      "source": [
        "# solução\n",
        "votos_por_genero_por_filme.sum().sort_values(ascending = False).plot(kind = 'bar',title = 'Quantidade de votos por genero')\n"
      ],
      "execution_count": 89,
      "outputs": [
        {
          "output_type": "execute_result",
          "data": {
            "text/plain": [
              "<matplotlib.axes._subplots.AxesSubplot at 0x7ff22e7cdb38>"
            ]
          },
          "metadata": {
            "tags": []
          },
          "execution_count": 89
        },
        {
          "output_type": "display_data",
          "data": {
            "image/png": "[encoded data removed]",
            "text/plain": [
              "<Figure size 432x288 with 1 Axes>"
            ]
          },
          "metadata": {
            "tags": []
          }
        }
      ]
    },
    {
      "cell_type": "markdown",
      "metadata": {
        "id": "b3rsAh_aEJZE",
        "colab_type": "text"
      },
      "source": [
        "## Pergunta : votos por filme por genero\n",
        "\n",
        "Queremos entender a quantidade de votos em relação a quantidade de filmes existentes naquele genero.\n",
        "\n",
        "Por exemplo: \n",
        "- se temos 1000 votos de `Ação` e 10 filmes desse genero, foram 100 votos por filme nesse genero.\n",
        "- se o gênero `Documentário` tem 2 filmes e 500 votos, ele tem 250 votos por filme nesse gênero.\n",
        "\n",
        "Queremos entender isso, a \"popularidade\" média de um filme em cada categoria, isto é, o número de votos dividido pelo número de filmes, organizado para cada categoria.\n",
        "\n",
        "- Você já possui o número de votos por genero\n",
        "- Calcule o número de votos por genero dividido pelo total de filmes por genero\n",
        "- Ordene do maior para o menor\n",
        "- Plote um gráfico para visualizarmos esses dados"
      ]
    },
    {
      "cell_type": "code",
      "metadata": {
        "id": "k3neoiv4EJZF",
        "colab_type": "code",
        "outputId": "fcbace38-35ab-426f-8709-b6156bff297a",
        "colab": {
          "base_uri": "https://localhost:8080/",
          "height": 357
        }
      },
      "source": [
        "# solucao código\n",
        "media_votos_quantidade = votos_por_genero_por_filme.sum().sort_values(ascending = False)/generos.sum().sort_values(ascending = False)\n",
        "media_votos_quantidade "
      ],
      "execution_count": 90,
      "outputs": [
        {
          "output_type": "execute_result",
          "data": {
            "text/plain": [
              "Action          95.939024\n",
              "Adventure       98.624060\n",
              "Animation       92.909091\n",
              "Children        92.148936\n",
              "Comedy          83.315217\n",
              "Crime           96.100000\n",
              "Documentary     27.000000\n",
              "Drama           86.769663\n",
              "Fantasy         89.447761\n",
              "FilmNoir        48.500000\n",
              "Horror          82.037037\n",
              "IMAX            89.000000\n",
              "Musical         82.818182\n",
              "Mystery         90.842105\n",
              "Romance         82.711111\n",
              "SciFi           97.706522\n",
              "Thriller        94.500000\n",
              "War            105.650000\n",
              "Western         75.000000\n",
              "dtype: float64"
            ]
          },
          "metadata": {
            "tags": []
          },
          "execution_count": 90
        }
      ]
    },
    {
      "cell_type": "code",
      "metadata": {
        "id": "crxvkdCxEJZG",
        "colab_type": "code",
        "outputId": "5aba6b64-8dd4-4edf-86d2-a451536956a1",
        "colab": {
          "base_uri": "https://localhost:8080/",
          "height": 356
        }
      },
      "source": [
        "# solução com visualização \n",
        "media_votos_quantidade.sort_values(ascending = False).plot(kind = 'bar',title = 'Média de filmes por genero')\n"
      ],
      "execution_count": 91,
      "outputs": [
        {
          "output_type": "execute_result",
          "data": {
            "text/plain": [
              "<matplotlib.axes._subplots.AxesSubplot at 0x7ff22e807f98>"
            ]
          },
          "metadata": {
            "tags": []
          },
          "execution_count": 91
        },
        {
          "output_type": "display_data",
          "data": {
            "image/png": "[encoded data removed]",
            "text/plain": [
              "<Figure size 432x288 with 1 Axes>"
            ]
          },
          "metadata": {
            "tags": []
          }
        }
      ]
    },
    {
      "cell_type": "markdown",
      "metadata": {
        "id": "3xspe_O9EJZI",
        "colab_type": "text"
      },
      "source": [
        "## Pergunta: Olhando as 3 últimas visualizações o que você conclui sobre os generos `Action` e `War`?"
      ]
    },
    {
      "cell_type": "markdown",
      "metadata": {
        "id": "L0WU7a5iEJZI",
        "colab_type": "text"
      },
      "source": [
        "### Solução (texto livre):\n",
        "São filmes relacionados, uma vez que filmes de guerra possuem ação, mas não necessariamente os filmes de ação possuem guerras.\n",
        "    "
      ]
    },
    {
      "cell_type": "markdown",
      "metadata": {
        "id": "ZcAXDFFoEJZJ",
        "colab_type": "text"
      },
      "source": [
        "## Pergunta: Crie 2 boxplots no mesmo plot comparando a coluna `total_de_votos` dos filmes de categoria `Horror` e `Adventure`  \n",
        "\n",
        "Dica:\n",
        "\n",
        "- as vezes é mais fácil usar o boxplot do matplotlib ao invés do seaborn\n",
        "- plt.boxplot suporta o parâmetro labels com uma lista de nomes para cada boxplot plotado"
      ]
    },
    {
      "cell_type": "code",
      "metadata": {
        "id": "pxhKcnoZEJZJ",
        "colab_type": "code",
        "outputId": "a3e904b7-d590-4084-d090-397a9ed0f8b9",
        "colab": {
          "base_uri": "https://localhost:8080/",
          "height": 431
        }
      },
      "source": [
        "# solução:\n",
        "#ax = sns.boxplot(data = votos_por_genero_por_filme, orient= 'h', width= 0.5 )\n",
        "#ax.figure.set_size_inches(22,10)\n",
        "#ax.set_title('Comparação do total de votos entre Horror e Adventure', fontsize = 20)\n",
        "#ax.set_ylabel('Gêneros', fontsize = 16)\n",
        "#ax.set_xlabel('Quantidade de votos', fontsize = 16)\n",
        "#ax\n",
        "\n",
        "dadosH = filmes.groupby(['Horror']).sum()\n",
        "dadosA = filmes.groupby(['Adventure']).sum()\n",
        "dados = [dadosH.total_de_votos, dadosA.total_de_votos]\n",
        "ax = sns.boxplot(data = dados, orient= 'v', width= 0.2 )\n",
        "ax.figure.set_size_inches(12,6)\n",
        "ax.set_title('Comparação do total de votos entre Horror e Adventure respectivamente', fontsize = 20)\n",
        "ax.set_ylabel('Gêneros', fontsize = 16)\n",
        "ax.set_xlabel('Quantidade de votos', fontsize = 16)\n",
        "ax\n",
        "#votos_por_genero_por_filme."
      ],
      "execution_count": 92,
      "outputs": [
        {
          "output_type": "execute_result",
          "data": {
            "text/plain": [
              "<matplotlib.axes._subplots.AxesSubplot at 0x7ff22e872d68>"
            ]
          },
          "metadata": {
            "tags": []
          },
          "execution_count": 92
        },
        {
          "output_type": "display_data",
          "data": {
            "image/png": "[encoded data removed]",
            "text/plain": [
              "<Figure size 864x432 with 1 Axes>"
            ]
          },
          "metadata": {
            "tags": []
          }
        }
      ]
    },
    {
      "cell_type": "markdown",
      "metadata": {
        "id": "8zxRc6O6EJZL",
        "colab_type": "text"
      },
      "source": [
        "## Pergunta: mostre agora um boxplot para cada uma das categorias\n",
        "\n",
        "Dica:\n",
        "- use generos.columns para acessar todos os gêneros\n",
        "- já removemos os hífens dos nomes das colunas quando criamos as colunas de gêneros\n",
        "- plt (pyplot) do matplotlib suporta a função xticks(rotation=90) para rotacionar os labels"
      ]
    },
    {
      "cell_type": "code",
      "metadata": {
        "id": "twl0NldUEJZL",
        "colab_type": "code",
        "outputId": "4e31cb98-7758-4b6e-e370-2f97edd619f3",
        "colab": {
          "base_uri": "https://localhost:8080/",
          "height": 451
        }
      },
      "source": [
        "ax = sns.boxplot(data = generos, orient= 'v', width= 0.2 )\n",
        "ax.figure.set_size_inches(22,6)\n",
        "ax.set_title('Comparação do total de votos', fontsize = 20)\n",
        "ax.set_ylabel('Quantidade de votos', fontsize = 16)\n",
        "ax.set_xlabel('Gênero', fontsize = 16)\n",
        "ax"
      ],
      "execution_count": 93,
      "outputs": [
        {
          "output_type": "execute_result",
          "data": {
            "text/plain": [
              "<matplotlib.axes._subplots.AxesSubplot at 0x7ff22f18a898>"
            ]
          },
          "metadata": {
            "tags": []
          },
          "execution_count": 93
        },
        {
          "output_type": "display_data",
          "data": {
            "image/png": "[encoded data removed]",
            "text/plain": [
              "<Figure size 1584x432 with 1 Axes>"
            ]
          },
          "metadata": {
            "tags": []
          }
        }
      ]
    },
    {
      "cell_type": "markdown",
      "metadata": {
        "id": "Vu5uqvBFEJZN",
        "colab_type": "text"
      },
      "source": [
        "## Pergunta: desejo criar um filme com somente um dos gêneros: `Horror` ou `Adventure`. Quero ter uma chance maior de ter um faturamento que pague minhas contas, mesmo que não seja um super sucesso absurdo de vendas. Qual dos 2 gêneros você sugere?"
      ]
    },
    {
      "cell_type": "markdown",
      "metadata": {
        "id": "M4tjtBEDEJZO",
        "colab_type": "text"
      },
      "source": [
        "### Solução:\n",
        "Adventure\n"
      ]
    },
    {
      "cell_type": "markdown",
      "metadata": {
        "id": "FgNcGGFeEJZP",
        "colab_type": "text"
      },
      "source": [
        "## Pergunta: nossa análise foi até então visual. Aplique um teste estatístico para verificar se existe significância estatística na distribuição dos votos dos filmes de `Adventure` e `Horror`. Sua recomendação continua a mesma? Explique.\n",
        "\n",
        "Passos:\n",
        "\n",
        "- visualize a distribuição de ambas através de histogramas\n",
        "- se suspeitar normalidade na distribuição, faça um teste de normalidade para ambas\n",
        "- aplique um teste adequado de comparação das distribuições\n",
        "- explique o resultado encontrado\n",
        "- utilize p=0.05"
      ]
    },
    {
      "cell_type": "code",
      "metadata": {
        "id": "fCA613yLEJZP",
        "colab_type": "code",
        "outputId": "fb3a22dc-d418-4025-e1e2-6dbfddafd01c",
        "colab": {
          "base_uri": "https://localhost:8080/",
          "height": 312
        }
      },
      "source": [
        "# solucao histograma de aventura\n",
        "\n",
        "dados = votos_por_genero_por_filme.Adventure.value_counts()\n",
        "ax = sns.distplot(dados)\n",
        "ax.set(xlabel=\"Nota média\", ylabel=\"Frequência\")\n",
        "ax.set_title(\"Histograma\")"
      ],
      "execution_count": 94,
      "outputs": [
        {
          "output_type": "execute_result",
          "data": {
            "text/plain": [
              "Text(0.5, 1.0, 'Histograma')"
            ]
          },
          "metadata": {
            "tags": []
          },
          "execution_count": 94
        },
        {
          "output_type": "display_data",
          "data": {
            "image/png": "[encoded data removed]",
            "text/plain": [
              "<Figure size 432x288 with 1 Axes>"
            ]
          },
          "metadata": {
            "tags": []
          }
        }
      ]
    },
    {
      "cell_type": "code",
      "metadata": {
        "id": "DI94HmmWEJZR",
        "colab_type": "code",
        "outputId": "1a441648-50a6-4cfc-f2fe-0ebec9ad3b0a",
        "colab": {
          "base_uri": "https://localhost:8080/",
          "height": 312
        }
      },
      "source": [
        "# solucao histograma de horror\n",
        "dados = votos_por_genero_por_filme.Horror.value_counts()\n",
        "ax = sns.distplot(dados)\n",
        "ax.set(xlabel=\"Nota média\", ylabel=\"Frequência\")\n",
        "ax.set_title(\"Histograma\")"
      ],
      "execution_count": 95,
      "outputs": [
        {
          "output_type": "execute_result",
          "data": {
            "text/plain": [
              "Text(0.5, 1.0, 'Histograma')"
            ]
          },
          "metadata": {
            "tags": []
          },
          "execution_count": 95
        },
        {
          "output_type": "display_data",
          "data": {
            "image/png": "[encoded data removed]",
            "text/plain": [
              "<Figure size 432x288 with 1 Axes>"
            ]
          },
          "metadata": {
            "tags": []
          }
        }
      ]
    },
    {
      "cell_type": "code",
      "metadata": {
        "colab_type": "code",
        "outputId": "6edbc53b-752d-4e01-b0c9-bdbfe7f3ae89",
        "id": "u8_tYktixWtS",
        "colab": {
          "base_uri": "https://localhost:8080/",
          "height": 34
        }
      },
      "source": [
        "# solucao teste de normalidade ou justificativa para nao utiliza-lo\n",
        "\n",
        "dadosH = votos_por_genero_por_filme.Horror.value_counts()\n",
        "dadosA =  votos_por_genero_por_filme.Adventure.value_counts()\n",
        "stats.ttest_ind(a = dadosH , b = dadosA, equal_var= False )\n"
      ],
      "execution_count": 96,
      "outputs": [
        {
          "output_type": "execute_result",
          "data": {
            "text/plain": [
              "Ttest_indResult(statistic=0.7849160599602616, pvalue=0.44154573074487813)"
            ]
          },
          "metadata": {
            "tags": []
          },
          "execution_count": 96
        }
      ]
    },
    {
      "cell_type": "code",
      "metadata": {
        "id": "nzpUo2PMEJZU",
        "colab_type": "code",
        "outputId": "0bbf09fb-6bfb-4a8c-a8f8-83438d17fc1a",
        "colab": {
          "base_uri": "https://localhost:8080/",
          "height": 34
        }
      },
      "source": [
        "# solução com o teste desejado\n",
        "dadosH = votos_por_genero_por_filme.Horror.value_counts()\n",
        "dadosA =  votos_por_genero_por_filme.Adventure.value_counts()\n",
        "stats.ttest_ind(a = dadosA , b = dadosH, equal_var= False )"
      ],
      "execution_count": 97,
      "outputs": [
        {
          "output_type": "execute_result",
          "data": {
            "text/plain": [
              "Ttest_indResult(statistic=-0.7849160599602616, pvalue=0.44154573074487813)"
            ]
          },
          "metadata": {
            "tags": []
          },
          "execution_count": 97
        }
      ]
    },
    {
      "cell_type": "markdown",
      "metadata": {
        "id": "7usbh_jMEJZW",
        "colab_type": "text"
      },
      "source": [
        "### Solução (explique sua conclusão):\n",
        "Sim, pois há 44% de chance de que as pessoas que votaram em um filme votaram no outro.\n"
      ]
    },
    {
      "cell_type": "markdown",
      "metadata": {
        "id": "5b0UnWBSEJZX",
        "colab_type": "text"
      },
      "source": [
        "## Pergunta: Faça os mesmos boxplots para as notas médias (`nota_media`) dos gêneros `Adventure` e `Horror`."
      ]
    },
    {
      "cell_type": "code",
      "metadata": {
        "id": "Vqn-oMRVEJZY",
        "colab_type": "code",
        "outputId": "d45b63db-c38e-4306-9c59-13917a5b35c7",
        "colab": {
          "base_uri": "https://localhost:8080/",
          "height": 432
        }
      },
      "source": [
        "# solução:\n",
        "dadosH = filmes.groupby(['Horror']).mean()\n",
        "dadosA = filmes.groupby(['Adventure']).mean()\n",
        "dados = [dadosH.nota_media, dadosA.nota_media]\n",
        "ax = sns.boxplot(data = dados, orient= 'v', width= 0.2 )\n",
        "ax.figure.set_size_inches(12,6)\n",
        "ax.set_title('Comparação da média das notas entre Horror e Adventure respectivamente', fontsize = 20)\n",
        "ax.set_ylabel('Notas', fontsize = 16)\n",
        "ax.set_xlabel('Gênero', fontsize = 16)\n"
      ],
      "execution_count": 98,
      "outputs": [
        {
          "output_type": "execute_result",
          "data": {
            "text/plain": [
              "Text(0.5, 0, 'Gênero')"
            ]
          },
          "metadata": {
            "tags": []
          },
          "execution_count": 98
        },
        {
          "output_type": "display_data",
          "data": {
            "image/png": "[encoded data removed]",
            "text/plain": [
              "<Figure size 864x432 with 1 Axes>"
            ]
          },
          "metadata": {
            "tags": []
          }
        }
      ]
    },
    {
      "cell_type": "code",
      "metadata": {
        "id": "UOQisgJYEJZd",
        "colab_type": "code",
        "colab": {}
      },
      "source": [
        ""
      ],
      "execution_count": 0,
      "outputs": []
    },
    {
      "cell_type": "markdown",
      "metadata": {
        "id": "SXbnfZnTEJZe",
        "colab_type": "text"
      },
      "source": [
        "## Pergunta: Quero fazer um filme que seja sucesso de crítica, com pessoas dando notas altas, mesmo que não tenha um número muito grande de pessoas assistindo. Qual gênero você recomenda se tenho que escolher somente um entre `Adventure` e `Horror`?"
      ]
    },
    {
      "cell_type": "markdown",
      "metadata": {
        "id": "Vui2rI22EJZf",
        "colab_type": "text"
      },
      "source": [
        "### Solução:\n",
        "Adventure\n"
      ]
    },
    {
      "cell_type": "markdown",
      "metadata": {
        "id": "RkrjRQL5EJZf",
        "colab_type": "text"
      },
      "source": [
        "## Pergunta: nossa análise foi até então visual. Aplique um teste estatístico para verificar se existe significância estatística na distribuição das notas dos filmes de `Adventure` e `Horror`.\n",
        "\n",
        "Passos:\n",
        "\n",
        "- visualize a distribuição de ambas através de histogramas\n",
        "- se suspeitar normalidade na distribuição, faça um teste de normalidade para ambas\n",
        "- aplique um teste adequado de comparação das distribuições\n",
        "- explique o resultado encontrado\n",
        "- utilize p=0.05"
      ]
    },
    {
      "cell_type": "code",
      "metadata": {
        "id": "4wIMjxc2EJZg",
        "colab_type": "code",
        "outputId": "eb379893-e188-4194-a103-27225e402a05",
        "colab": {
          "base_uri": "https://localhost:8080/",
          "height": 312
        }
      },
      "source": [
        "# solucao histograma de aventura\n",
        "dadosA = filmes.groupby(['Adventure']).mean().nota_media\n",
        "ax = sns.distplot(dadosA)\n",
        "ax.set(xlabel=\"Nota média\", ylabel=\"Frequência\")\n",
        "ax.set_title(\"Histograma\")\n"
      ],
      "execution_count": 99,
      "outputs": [
        {
          "output_type": "execute_result",
          "data": {
            "text/plain": [
              "Text(0.5, 1.0, 'Histograma')"
            ]
          },
          "metadata": {
            "tags": []
          },
          "execution_count": 99
        },
        {
          "output_type": "display_data",
          "data": {
            "image/png": "[encoded data removed]",
            "text/plain": [
              "<Figure size 432x288 with 1 Axes>"
            ]
          },
          "metadata": {
            "tags": []
          }
        }
      ]
    },
    {
      "cell_type": "code",
      "metadata": {
        "id": "_2oX1i_IEJZi",
        "colab_type": "code",
        "outputId": "b9a2dd2c-04dc-447f-ef7c-fe9fad5ff272",
        "colab": {
          "base_uri": "https://localhost:8080/",
          "height": 312
        }
      },
      "source": [
        "# solucao histograma de horror\n",
        "dadosH = filmes.groupby(['Horror']).mean().nota_media\n",
        "ax = sns.distplot(dadosH)\n",
        "ax.set(xlabel=\"Nota média\", ylabel=\"Frequência\")\n",
        "ax.set_title(\"Histograma\")"
      ],
      "execution_count": 100,
      "outputs": [
        {
          "output_type": "execute_result",
          "data": {
            "text/plain": [
              "Text(0.5, 1.0, 'Histograma')"
            ]
          },
          "metadata": {
            "tags": []
          },
          "execution_count": 100
        },
        {
          "output_type": "display_data",
          "data": {
            "image/png": "[encoded data removed]",
            "text/plain": [
              "<Figure size 432x288 with 1 Axes>"
            ]
          },
          "metadata": {
            "tags": []
          }
        }
      ]
    },
    {
      "cell_type": "code",
      "metadata": {
        "id": "77wBqh_8EJZk",
        "colab_type": "code",
        "outputId": "049000e0-0438-46c4-8fdc-81810185d7ae",
        "colab": {
          "base_uri": "https://localhost:8080/",
          "height": 34
        }
      },
      "source": [
        "# solucao teste de normalidade ou justificativa para nao utiliza-lo\n",
        "\n",
        "dadosH = filmes.groupby(['Horror']).mean().nota_media\n",
        "dadosA =  filmes.groupby(['Adventure']).mean().nota_media\n",
        "stats.ttest_ind(a = dadosH , b = dadosA, equal_var= False )"
      ],
      "execution_count": 101,
      "outputs": [
        {
          "output_type": "execute_result",
          "data": {
            "text/plain": [
              "Ttest_indResult(statistic=-0.24483662876646356, pvalue=0.8301253005782193)"
            ]
          },
          "metadata": {
            "tags": []
          },
          "execution_count": 101
        }
      ]
    },
    {
      "cell_type": "code",
      "metadata": {
        "id": "YRhPvvDuEJZm",
        "colab_type": "code",
        "outputId": "ca63f90e-a60c-435e-a515-2115194160cb",
        "colab": {
          "base_uri": "https://localhost:8080/",
          "height": 34
        }
      },
      "source": [
        "# solução com o teste desejado\n",
        "dadosH = filmes.groupby(['Horror']).mean().nota_media\n",
        "dadosA =  filmes.groupby(['Adventure']).mean().nota_media\n",
        "stats.ttest_ind(a = dadosH , b = dadosA, equal_var= False )"
      ],
      "execution_count": 102,
      "outputs": [
        {
          "output_type": "execute_result",
          "data": {
            "text/plain": [
              "Ttest_indResult(statistic=-0.24483662876646356, pvalue=0.8301253005782193)"
            ]
          },
          "metadata": {
            "tags": []
          },
          "execution_count": 102
        }
      ]
    },
    {
      "cell_type": "markdown",
      "metadata": {
        "id": "BEJYG1t-EJZo",
        "colab_type": "text"
      },
      "source": [
        "## Sua recomendação para maior sucesso de crítica em nota alta entre `Horror` e `Adventure` continua a mesma? Explique.\n",
        "\n"
      ]
    },
    {
      "cell_type": "markdown",
      "metadata": {
        "id": "VqwdECT4EJZo",
        "colab_type": "text"
      },
      "source": [
        "### Solução:\n",
        "Sim, Adventure ainda possui a maior chance de sucesso"
      ]
    },
    {
      "cell_type": "markdown",
      "metadata": {
        "id": "1WU_nvRGEJZo",
        "colab_type": "text"
      },
      "source": [
        "## Pergunta: Quero fazer um filme que seja primeiro sucesso de crítica, com pessoas dando notas altas. Em segundo lugar quero que seja popular (mais pessoas assistam). Com as informações visuais e estatísticas, supondo poder escolher somente um, qual dois 2 gêneros você recomenda agora? `Horror` ou `Adventure`?"
      ]
    },
    {
      "cell_type": "markdown",
      "metadata": {
        "id": "KQxmNLSNEJZp",
        "colab_type": "text"
      },
      "source": [
        "### Solução:\n",
        "Adventure\n"
      ]
    },
    {
      "cell_type": "markdown",
      "metadata": {
        "id": "qAG3RWTsEJZp",
        "colab_type": "text"
      },
      "source": [
        "## Pergunta: Quais são os top 5 filmes dos 2 generos mais assistidas?\n",
        "\n",
        "- utilize os 2 generos mais votados em `votos_por_genero`\n",
        "- utilize a `nota_media` para definir o top 5 filmes\n",
        "- o resultado são 5, não 10 filmes"
      ]
    },
    {
      "cell_type": "code",
      "metadata": {
        "id": "T9R9WNJKEJZr",
        "colab_type": "code",
        "outputId": "a36ada76-7a9d-41d8-a690-9ffed1342c6b",
        "colab": {
          "base_uri": "https://localhost:8080/",
          "height": 68
        }
      },
      "source": [
        "# solução: calculando os 2 generos mais votados\n",
        "print(votos_por_genero_por_filme.sum().sort_values(ascending = False).head(2))"
      ],
      "execution_count": 103,
      "outputs": [
        {
          "output_type": "stream",
          "text": [
            "Action    15734.0\n",
            "Drama     15445.0\n",
            "dtype: float64\n"
          ],
          "name": "stdout"
        }
      ]
    },
    {
      "cell_type": "code",
      "metadata": {
        "id": "TJFR_xqcEJZt",
        "colab_type": "code",
        "outputId": "cf2b7b4e-c8ec-4c38-ab90-243681052611",
        "colab": {
          "base_uri": "https://localhost:8080/",
          "height": 425
        }
      },
      "source": [
        "# solução: encontrando os top 5 filmes desses generos\n",
        "dados = filmes.nlargest(n = 5, columns=['Action', 'Drama','nota_media'])\n",
        "dados"
      ],
      "execution_count": 104,
      "outputs": [
        {
          "output_type": "execute_result",
          "data": {
            "text/html": [
              "<div>\n",
              "<style scoped>\n",
              "    .dataframe tbody tr th:only-of-type {\n",
              "        vertical-align: middle;\n",
              "    }\n",
              "\n",
              "    .dataframe tbody tr th {\n",
              "        vertical-align: top;\n",
              "    }\n",
              "\n",
              "    .dataframe thead th {\n",
              "        text-align: right;\n",
              "    }\n",
              "</style>\n",
              "<table border=\"1\" class=\"dataframe\">\n",
              "  <thead>\n",
              "    <tr style=\"text-align: right;\">\n",
              "      <th></th>\n",
              "      <th>filmesId</th>\n",
              "      <th>titulo</th>\n",
              "      <th>ano_de_lancamento</th>\n",
              "      <th>nota_media</th>\n",
              "      <th>total_de_votos</th>\n",
              "      <th>Action</th>\n",
              "      <th>Adventure</th>\n",
              "      <th>Animation</th>\n",
              "      <th>Children</th>\n",
              "      <th>Comedy</th>\n",
              "      <th>Crime</th>\n",
              "      <th>Documentary</th>\n",
              "      <th>Drama</th>\n",
              "      <th>Fantasy</th>\n",
              "      <th>FilmNoir</th>\n",
              "      <th>Horror</th>\n",
              "      <th>IMAX</th>\n",
              "      <th>Musical</th>\n",
              "      <th>Mystery</th>\n",
              "      <th>Romance</th>\n",
              "      <th>SciFi</th>\n",
              "      <th>Thriller</th>\n",
              "      <th>War</th>\n",
              "      <th>Western</th>\n",
              "    </tr>\n",
              "    <tr>\n",
              "      <th>filmesId</th>\n",
              "      <th></th>\n",
              "      <th></th>\n",
              "      <th></th>\n",
              "      <th></th>\n",
              "      <th></th>\n",
              "      <th></th>\n",
              "      <th></th>\n",
              "      <th></th>\n",
              "      <th></th>\n",
              "      <th></th>\n",
              "      <th></th>\n",
              "      <th></th>\n",
              "      <th></th>\n",
              "      <th></th>\n",
              "      <th></th>\n",
              "      <th></th>\n",
              "      <th></th>\n",
              "      <th></th>\n",
              "      <th></th>\n",
              "      <th></th>\n",
              "      <th></th>\n",
              "      <th></th>\n",
              "      <th></th>\n",
              "      <th></th>\n",
              "    </tr>\n",
              "  </thead>\n",
              "  <tbody>\n",
              "    <tr>\n",
              "      <th>2959</th>\n",
              "      <td>2959</td>\n",
              "      <td>Fight Club (1999)</td>\n",
              "      <td>1999.0</td>\n",
              "      <td>4.272936</td>\n",
              "      <td>218.0</td>\n",
              "      <td>1</td>\n",
              "      <td>0</td>\n",
              "      <td>0</td>\n",
              "      <td>0</td>\n",
              "      <td>0</td>\n",
              "      <td>1</td>\n",
              "      <td>0</td>\n",
              "      <td>1</td>\n",
              "      <td>0</td>\n",
              "      <td>0</td>\n",
              "      <td>0</td>\n",
              "      <td>0</td>\n",
              "      <td>0</td>\n",
              "      <td>0</td>\n",
              "      <td>0</td>\n",
              "      <td>0</td>\n",
              "      <td>1</td>\n",
              "      <td>0</td>\n",
              "      <td>0</td>\n",
              "    </tr>\n",
              "    <tr>\n",
              "      <th>58559</th>\n",
              "      <td>58559</td>\n",
              "      <td>Dark Knight, The (2008)</td>\n",
              "      <td>2008.0</td>\n",
              "      <td>4.238255</td>\n",
              "      <td>149.0</td>\n",
              "      <td>1</td>\n",
              "      <td>0</td>\n",
              "      <td>0</td>\n",
              "      <td>0</td>\n",
              "      <td>0</td>\n",
              "      <td>1</td>\n",
              "      <td>0</td>\n",
              "      <td>1</td>\n",
              "      <td>0</td>\n",
              "      <td>0</td>\n",
              "      <td>0</td>\n",
              "      <td>1</td>\n",
              "      <td>0</td>\n",
              "      <td>0</td>\n",
              "      <td>0</td>\n",
              "      <td>0</td>\n",
              "      <td>0</td>\n",
              "      <td>0</td>\n",
              "      <td>0</td>\n",
              "    </tr>\n",
              "    <tr>\n",
              "      <th>1208</th>\n",
              "      <td>1208</td>\n",
              "      <td>Apocalypse Now (1979)</td>\n",
              "      <td>1979.0</td>\n",
              "      <td>4.219626</td>\n",
              "      <td>107.0</td>\n",
              "      <td>1</td>\n",
              "      <td>0</td>\n",
              "      <td>0</td>\n",
              "      <td>0</td>\n",
              "      <td>0</td>\n",
              "      <td>0</td>\n",
              "      <td>0</td>\n",
              "      <td>1</td>\n",
              "      <td>0</td>\n",
              "      <td>0</td>\n",
              "      <td>0</td>\n",
              "      <td>0</td>\n",
              "      <td>0</td>\n",
              "      <td>0</td>\n",
              "      <td>0</td>\n",
              "      <td>0</td>\n",
              "      <td>0</td>\n",
              "      <td>1</td>\n",
              "      <td>0</td>\n",
              "    </tr>\n",
              "    <tr>\n",
              "      <th>6016</th>\n",
              "      <td>6016</td>\n",
              "      <td>City of God (Cidade de Deus) (2002)</td>\n",
              "      <td>2002.0</td>\n",
              "      <td>4.146667</td>\n",
              "      <td>75.0</td>\n",
              "      <td>1</td>\n",
              "      <td>1</td>\n",
              "      <td>0</td>\n",
              "      <td>0</td>\n",
              "      <td>0</td>\n",
              "      <td>1</td>\n",
              "      <td>0</td>\n",
              "      <td>1</td>\n",
              "      <td>0</td>\n",
              "      <td>0</td>\n",
              "      <td>0</td>\n",
              "      <td>0</td>\n",
              "      <td>0</td>\n",
              "      <td>0</td>\n",
              "      <td>0</td>\n",
              "      <td>0</td>\n",
              "      <td>1</td>\n",
              "      <td>0</td>\n",
              "      <td>0</td>\n",
              "    </tr>\n",
              "    <tr>\n",
              "      <th>2028</th>\n",
              "      <td>2028</td>\n",
              "      <td>Saving Private Ryan (1998)</td>\n",
              "      <td>1998.0</td>\n",
              "      <td>4.146277</td>\n",
              "      <td>188.0</td>\n",
              "      <td>1</td>\n",
              "      <td>0</td>\n",
              "      <td>0</td>\n",
              "      <td>0</td>\n",
              "      <td>0</td>\n",
              "      <td>0</td>\n",
              "      <td>0</td>\n",
              "      <td>1</td>\n",
              "      <td>0</td>\n",
              "      <td>0</td>\n",
              "      <td>0</td>\n",
              "      <td>0</td>\n",
              "      <td>0</td>\n",
              "      <td>0</td>\n",
              "      <td>0</td>\n",
              "      <td>0</td>\n",
              "      <td>0</td>\n",
              "      <td>1</td>\n",
              "      <td>0</td>\n",
              "    </tr>\n",
              "  </tbody>\n",
              "</table>\n",
              "</div>"
            ],
            "text/plain": [
              "          filmesId                               titulo  ...  War  Western\n",
              "filmesId                                                 ...              \n",
              "2959          2959                    Fight Club (1999)  ...    0        0\n",
              "58559        58559              Dark Knight, The (2008)  ...    0        0\n",
              "1208          1208                Apocalypse Now (1979)  ...    1        0\n",
              "6016          6016  City of God (Cidade de Deus) (2002)  ...    0        0\n",
              "2028          2028           Saving Private Ryan (1998)  ...    1        0\n",
              "\n",
              "[5 rows x 24 columns]"
            ]
          },
          "metadata": {
            "tags": []
          },
          "execution_count": 104
        }
      ]
    },
    {
      "cell_type": "markdown",
      "metadata": {
        "id": "cRYgaoJ6EJZv",
        "colab_type": "text"
      },
      "source": [
        "## Pergunta: Quais são os 2 generos com maior valor de correlação com a `nota_media`? E os 2 com menor valor de correlação com a `nota_media`?\n",
        "\n",
        "- O pandas possui a função `corr` para calcular correlação entre todas as colunas"
      ]
    },
    {
      "cell_type": "code",
      "metadata": {
        "id": "D8r4lOZuEJZv",
        "colab_type": "code",
        "outputId": "d15107d6-2f27-419b-f65f-b00a613b72cf",
        "colab": {
          "base_uri": "https://localhost:8080/",
          "height": 782
        }
      },
      "source": [
        "# solucao\n",
        "filmes.corr().round(4)\n",
        "# Maior correlação: Drama, Crime\n",
        "# Menor correlação: Sci-fi, Comedy"
      ],
      "execution_count": 105,
      "outputs": [
        {
          "output_type": "execute_result",
          "data": {
            "text/html": [
              "<div>\n",
              "<style scoped>\n",
              "    .dataframe tbody tr th:only-of-type {\n",
              "        vertical-align: middle;\n",
              "    }\n",
              "\n",
              "    .dataframe tbody tr th {\n",
              "        vertical-align: top;\n",
              "    }\n",
              "\n",
              "    .dataframe thead th {\n",
              "        text-align: right;\n",
              "    }\n",
              "</style>\n",
              "<table border=\"1\" class=\"dataframe\">\n",
              "  <thead>\n",
              "    <tr style=\"text-align: right;\">\n",
              "      <th></th>\n",
              "      <th>filmesId</th>\n",
              "      <th>ano_de_lancamento</th>\n",
              "      <th>nota_media</th>\n",
              "      <th>total_de_votos</th>\n",
              "      <th>Action</th>\n",
              "      <th>Adventure</th>\n",
              "      <th>Animation</th>\n",
              "      <th>Children</th>\n",
              "      <th>Comedy</th>\n",
              "      <th>Crime</th>\n",
              "      <th>Documentary</th>\n",
              "      <th>Drama</th>\n",
              "      <th>Fantasy</th>\n",
              "      <th>FilmNoir</th>\n",
              "      <th>Horror</th>\n",
              "      <th>IMAX</th>\n",
              "      <th>Musical</th>\n",
              "      <th>Mystery</th>\n",
              "      <th>Romance</th>\n",
              "      <th>SciFi</th>\n",
              "      <th>Thriller</th>\n",
              "      <th>War</th>\n",
              "      <th>Western</th>\n",
              "    </tr>\n",
              "  </thead>\n",
              "  <tbody>\n",
              "    <tr>\n",
              "      <th>filmesId</th>\n",
              "      <td>1.0000</td>\n",
              "      <td>0.4165</td>\n",
              "      <td>0.1751</td>\n",
              "      <td>-0.2059</td>\n",
              "      <td>0.1086</td>\n",
              "      <td>0.1237</td>\n",
              "      <td>0.0417</td>\n",
              "      <td>0.0025</td>\n",
              "      <td>-0.0953</td>\n",
              "      <td>0.0205</td>\n",
              "      <td>0.0023</td>\n",
              "      <td>0.0441</td>\n",
              "      <td>0.0122</td>\n",
              "      <td>0.0101</td>\n",
              "      <td>-0.0465</td>\n",
              "      <td>0.4106</td>\n",
              "      <td>-0.0890</td>\n",
              "      <td>0.0728</td>\n",
              "      <td>-0.0787</td>\n",
              "      <td>0.0942</td>\n",
              "      <td>0.0024</td>\n",
              "      <td>0.0392</td>\n",
              "      <td>-0.0149</td>\n",
              "    </tr>\n",
              "    <tr>\n",
              "      <th>ano_de_lancamento</th>\n",
              "      <td>0.4165</td>\n",
              "      <td>1.0000</td>\n",
              "      <td>-0.1591</td>\n",
              "      <td>-0.0287</td>\n",
              "      <td>0.1713</td>\n",
              "      <td>0.1309</td>\n",
              "      <td>-0.0216</td>\n",
              "      <td>-0.1089</td>\n",
              "      <td>0.0560</td>\n",
              "      <td>0.0264</td>\n",
              "      <td>0.0444</td>\n",
              "      <td>-0.0261</td>\n",
              "      <td>-0.0503</td>\n",
              "      <td>-0.1229</td>\n",
              "      <td>-0.0282</td>\n",
              "      <td>0.2352</td>\n",
              "      <td>-0.2576</td>\n",
              "      <td>0.0247</td>\n",
              "      <td>-0.0125</td>\n",
              "      <td>0.0942</td>\n",
              "      <td>0.0620</td>\n",
              "      <td>-0.0002</td>\n",
              "      <td>-0.0443</td>\n",
              "    </tr>\n",
              "    <tr>\n",
              "      <th>nota_media</th>\n",
              "      <td>0.1751</td>\n",
              "      <td>-0.1591</td>\n",
              "      <td>1.0000</td>\n",
              "      <td>0.3426</td>\n",
              "      <td>-0.1541</td>\n",
              "      <td>-0.0800</td>\n",
              "      <td>0.0431</td>\n",
              "      <td>-0.0304</td>\n",
              "      <td>-0.2560</td>\n",
              "      <td>0.1902</td>\n",
              "      <td>-0.0035</td>\n",
              "      <td>0.2777</td>\n",
              "      <td>-0.0210</td>\n",
              "      <td>0.0818</td>\n",
              "      <td>-0.0339</td>\n",
              "      <td>0.0649</td>\n",
              "      <td>-0.0085</td>\n",
              "      <td>0.1299</td>\n",
              "      <td>-0.0720</td>\n",
              "      <td>-0.1367</td>\n",
              "      <td>-0.0168</td>\n",
              "      <td>0.1256</td>\n",
              "      <td>-0.0596</td>\n",
              "    </tr>\n",
              "    <tr>\n",
              "      <th>total_de_votos</th>\n",
              "      <td>-0.2059</td>\n",
              "      <td>-0.0287</td>\n",
              "      <td>0.3426</td>\n",
              "      <td>1.0000</td>\n",
              "      <td>0.0662</td>\n",
              "      <td>0.1044</td>\n",
              "      <td>0.0234</td>\n",
              "      <td>0.0018</td>\n",
              "      <td>-0.1285</td>\n",
              "      <td>0.0798</td>\n",
              "      <td>-0.0550</td>\n",
              "      <td>0.0188</td>\n",
              "      <td>-0.0100</td>\n",
              "      <td>-0.0394</td>\n",
              "      <td>-0.0361</td>\n",
              "      <td>-0.0163</td>\n",
              "      <td>-0.0247</td>\n",
              "      <td>-0.0071</td>\n",
              "      <td>-0.0454</td>\n",
              "      <td>0.0638</td>\n",
              "      <td>0.0855</td>\n",
              "      <td>0.0880</td>\n",
              "      <td>-0.0608</td>\n",
              "    </tr>\n",
              "    <tr>\n",
              "      <th>Action</th>\n",
              "      <td>0.1086</td>\n",
              "      <td>0.1713</td>\n",
              "      <td>-0.1541</td>\n",
              "      <td>0.0662</td>\n",
              "      <td>1.0000</td>\n",
              "      <td>0.3415</td>\n",
              "      <td>-0.1673</td>\n",
              "      <td>-0.2007</td>\n",
              "      <td>-0.2703</td>\n",
              "      <td>0.0621</td>\n",
              "      <td>-0.0682</td>\n",
              "      <td>-0.2618</td>\n",
              "      <td>-0.1084</td>\n",
              "      <td>-0.0439</td>\n",
              "      <td>-0.0089</td>\n",
              "      <td>0.1357</td>\n",
              "      <td>-0.1420</td>\n",
              "      <td>-0.0544</td>\n",
              "      <td>-0.1993</td>\n",
              "      <td>0.3354</td>\n",
              "      <td>0.3014</td>\n",
              "      <td>0.0662</td>\n",
              "      <td>0.0509</td>\n",
              "    </tr>\n",
              "    <tr>\n",
              "      <th>Adventure</th>\n",
              "      <td>0.1237</td>\n",
              "      <td>0.1309</td>\n",
              "      <td>-0.0800</td>\n",
              "      <td>0.1044</td>\n",
              "      <td>0.3415</td>\n",
              "      <td>1.0000</td>\n",
              "      <td>0.1595</td>\n",
              "      <td>0.1835</td>\n",
              "      <td>-0.0804</td>\n",
              "      <td>-0.2353</td>\n",
              "      <td>-0.0585</td>\n",
              "      <td>-0.2887</td>\n",
              "      <td>0.2429</td>\n",
              "      <td>-0.0718</td>\n",
              "      <td>-0.0950</td>\n",
              "      <td>0.2206</td>\n",
              "      <td>-0.0504</td>\n",
              "      <td>-0.0832</td>\n",
              "      <td>-0.1632</td>\n",
              "      <td>0.2844</td>\n",
              "      <td>-0.0086</td>\n",
              "      <td>-0.0863</td>\n",
              "      <td>0.0476</td>\n",
              "    </tr>\n",
              "    <tr>\n",
              "      <th>Animation</th>\n",
              "      <td>0.0417</td>\n",
              "      <td>-0.0216</td>\n",
              "      <td>0.0431</td>\n",
              "      <td>0.0234</td>\n",
              "      <td>-0.1673</td>\n",
              "      <td>0.1595</td>\n",
              "      <td>1.0000</td>\n",
              "      <td>0.7410</td>\n",
              "      <td>0.1200</td>\n",
              "      <td>-0.0920</td>\n",
              "      <td>0.0651</td>\n",
              "      <td>-0.1298</td>\n",
              "      <td>0.2210</td>\n",
              "      <td>-0.0314</td>\n",
              "      <td>-0.0682</td>\n",
              "      <td>0.1065</td>\n",
              "      <td>0.4120</td>\n",
              "      <td>-0.0513</td>\n",
              "      <td>0.0138</td>\n",
              "      <td>-0.0942</td>\n",
              "      <td>-0.1672</td>\n",
              "      <td>-0.0582</td>\n",
              "      <td>-0.0447</td>\n",
              "    </tr>\n",
              "    <tr>\n",
              "      <th>Children</th>\n",
              "      <td>0.0025</td>\n",
              "      <td>-0.1089</td>\n",
              "      <td>-0.0304</td>\n",
              "      <td>0.0018</td>\n",
              "      <td>-0.2007</td>\n",
              "      <td>0.1835</td>\n",
              "      <td>0.7410</td>\n",
              "      <td>1.0000</td>\n",
              "      <td>0.1240</td>\n",
              "      <td>-0.1270</td>\n",
              "      <td>-0.0310</td>\n",
              "      <td>-0.1300</td>\n",
              "      <td>0.3709</td>\n",
              "      <td>-0.0381</td>\n",
              "      <td>-0.0827</td>\n",
              "      <td>0.0956</td>\n",
              "      <td>0.3960</td>\n",
              "      <td>-0.0733</td>\n",
              "      <td>-0.0187</td>\n",
              "      <td>-0.0937</td>\n",
              "      <td>-0.2028</td>\n",
              "      <td>-0.0706</td>\n",
              "      <td>-0.0542</td>\n",
              "    </tr>\n",
              "    <tr>\n",
              "      <th>Comedy</th>\n",
              "      <td>-0.0953</td>\n",
              "      <td>0.0560</td>\n",
              "      <td>-0.2560</td>\n",
              "      <td>-0.1285</td>\n",
              "      <td>-0.2703</td>\n",
              "      <td>-0.0804</td>\n",
              "      <td>0.1200</td>\n",
              "      <td>0.1240</td>\n",
              "      <td>1.0000</td>\n",
              "      <td>-0.1264</td>\n",
              "      <td>-0.0272</td>\n",
              "      <td>-0.2972</td>\n",
              "      <td>0.0957</td>\n",
              "      <td>-0.0917</td>\n",
              "      <td>-0.0303</td>\n",
              "      <td>-0.1477</td>\n",
              "      <td>0.0486</td>\n",
              "      <td>-0.1912</td>\n",
              "      <td>0.2288</td>\n",
              "      <td>-0.2000</td>\n",
              "      <td>-0.3604</td>\n",
              "      <td>-0.0836</td>\n",
              "      <td>0.0078</td>\n",
              "    </tr>\n",
              "    <tr>\n",
              "      <th>Crime</th>\n",
              "      <td>0.0205</td>\n",
              "      <td>0.0264</td>\n",
              "      <td>0.1902</td>\n",
              "      <td>0.0798</td>\n",
              "      <td>0.0621</td>\n",
              "      <td>-0.2353</td>\n",
              "      <td>-0.0920</td>\n",
              "      <td>-0.1270</td>\n",
              "      <td>-0.1264</td>\n",
              "      <td>1.0000</td>\n",
              "      <td>-0.0453</td>\n",
              "      <td>0.0868</td>\n",
              "      <td>-0.1530</td>\n",
              "      <td>0.2335</td>\n",
              "      <td>-0.0510</td>\n",
              "      <td>-0.0317</td>\n",
              "      <td>-0.1084</td>\n",
              "      <td>0.1130</td>\n",
              "      <td>-0.2106</td>\n",
              "      <td>-0.1732</td>\n",
              "      <td>0.2539</td>\n",
              "      <td>-0.0763</td>\n",
              "      <td>-0.0792</td>\n",
              "    </tr>\n",
              "    <tr>\n",
              "      <th>Documentary</th>\n",
              "      <td>0.0023</td>\n",
              "      <td>0.0444</td>\n",
              "      <td>-0.0035</td>\n",
              "      <td>-0.0550</td>\n",
              "      <td>-0.0682</td>\n",
              "      <td>-0.0585</td>\n",
              "      <td>0.0651</td>\n",
              "      <td>-0.0310</td>\n",
              "      <td>-0.0272</td>\n",
              "      <td>-0.0453</td>\n",
              "      <td>1.0000</td>\n",
              "      <td>-0.0249</td>\n",
              "      <td>-0.0380</td>\n",
              "      <td>-0.0106</td>\n",
              "      <td>-0.0230</td>\n",
              "      <td>-0.0234</td>\n",
              "      <td>-0.0206</td>\n",
              "      <td>-0.0276</td>\n",
              "      <td>-0.0453</td>\n",
              "      <td>-0.0459</td>\n",
              "      <td>-0.0564</td>\n",
              "      <td>-0.0196</td>\n",
              "      <td>-0.0151</td>\n",
              "    </tr>\n",
              "    <tr>\n",
              "      <th>Drama</th>\n",
              "      <td>0.0441</td>\n",
              "      <td>-0.0261</td>\n",
              "      <td>0.2777</td>\n",
              "      <td>0.0188</td>\n",
              "      <td>-0.2618</td>\n",
              "      <td>-0.2887</td>\n",
              "      <td>-0.1298</td>\n",
              "      <td>-0.1300</td>\n",
              "      <td>-0.2972</td>\n",
              "      <td>0.0868</td>\n",
              "      <td>-0.0249</td>\n",
              "      <td>1.0000</td>\n",
              "      <td>-0.1192</td>\n",
              "      <td>-0.0110</td>\n",
              "      <td>-0.0995</td>\n",
              "      <td>-0.0863</td>\n",
              "      <td>-0.0700</td>\n",
              "      <td>0.0088</td>\n",
              "      <td>0.0756</td>\n",
              "      <td>-0.1660</td>\n",
              "      <td>-0.0389</td>\n",
              "      <td>0.2044</td>\n",
              "      <td>-0.0157</td>\n",
              "    </tr>\n",
              "    <tr>\n",
              "      <th>Fantasy</th>\n",
              "      <td>0.0122</td>\n",
              "      <td>-0.0503</td>\n",
              "      <td>-0.0210</td>\n",
              "      <td>-0.0100</td>\n",
              "      <td>-0.1084</td>\n",
              "      <td>0.2429</td>\n",
              "      <td>0.2210</td>\n",
              "      <td>0.3709</td>\n",
              "      <td>0.0957</td>\n",
              "      <td>-0.1530</td>\n",
              "      <td>-0.0380</td>\n",
              "      <td>-0.1192</td>\n",
              "      <td>1.0000</td>\n",
              "      <td>-0.0466</td>\n",
              "      <td>-0.0226</td>\n",
              "      <td>0.1541</td>\n",
              "      <td>0.1686</td>\n",
              "      <td>-0.0322</td>\n",
              "      <td>0.0173</td>\n",
              "      <td>-0.1408</td>\n",
              "      <td>-0.1793</td>\n",
              "      <td>-0.0562</td>\n",
              "      <td>-0.0663</td>\n",
              "    </tr>\n",
              "    <tr>\n",
              "      <th>FilmNoir</th>\n",
              "      <td>0.0101</td>\n",
              "      <td>-0.1229</td>\n",
              "      <td>0.0818</td>\n",
              "      <td>-0.0394</td>\n",
              "      <td>-0.0439</td>\n",
              "      <td>-0.0718</td>\n",
              "      <td>-0.0314</td>\n",
              "      <td>-0.0381</td>\n",
              "      <td>-0.0917</td>\n",
              "      <td>0.2335</td>\n",
              "      <td>-0.0106</td>\n",
              "      <td>-0.0110</td>\n",
              "      <td>-0.0466</td>\n",
              "      <td>1.0000</td>\n",
              "      <td>-0.0282</td>\n",
              "      <td>-0.0287</td>\n",
              "      <td>-0.0253</td>\n",
              "      <td>0.2443</td>\n",
              "      <td>-0.0556</td>\n",
              "      <td>-0.0564</td>\n",
              "      <td>0.1449</td>\n",
              "      <td>-0.0241</td>\n",
              "      <td>-0.0185</td>\n",
              "    </tr>\n",
              "    <tr>\n",
              "      <th>Horror</th>\n",
              "      <td>-0.0465</td>\n",
              "      <td>-0.0282</td>\n",
              "      <td>-0.0339</td>\n",
              "      <td>-0.0361</td>\n",
              "      <td>-0.0089</td>\n",
              "      <td>-0.0950</td>\n",
              "      <td>-0.0682</td>\n",
              "      <td>-0.0827</td>\n",
              "      <td>-0.0303</td>\n",
              "      <td>-0.0510</td>\n",
              "      <td>-0.0230</td>\n",
              "      <td>-0.0995</td>\n",
              "      <td>-0.0226</td>\n",
              "      <td>-0.0282</td>\n",
              "      <td>1.0000</td>\n",
              "      <td>-0.0238</td>\n",
              "      <td>-0.0117</td>\n",
              "      <td>0.1278</td>\n",
              "      <td>-0.0975</td>\n",
              "      <td>0.0160</td>\n",
              "      <td>0.0771</td>\n",
              "      <td>-0.0523</td>\n",
              "      <td>-0.0401</td>\n",
              "    </tr>\n",
              "    <tr>\n",
              "      <th>IMAX</th>\n",
              "      <td>0.4106</td>\n",
              "      <td>0.2352</td>\n",
              "      <td>0.0649</td>\n",
              "      <td>-0.0163</td>\n",
              "      <td>0.1357</td>\n",
              "      <td>0.2206</td>\n",
              "      <td>0.1065</td>\n",
              "      <td>0.0956</td>\n",
              "      <td>-0.1477</td>\n",
              "      <td>-0.0317</td>\n",
              "      <td>-0.0234</td>\n",
              "      <td>-0.0863</td>\n",
              "      <td>0.1541</td>\n",
              "      <td>-0.0287</td>\n",
              "      <td>-0.0238</td>\n",
              "      <td>1.0000</td>\n",
              "      <td>0.0291</td>\n",
              "      <td>0.0240</td>\n",
              "      <td>-0.0774</td>\n",
              "      <td>0.1246</td>\n",
              "      <td>-0.0109</td>\n",
              "      <td>-0.0088</td>\n",
              "      <td>-0.0409</td>\n",
              "    </tr>\n",
              "    <tr>\n",
              "      <th>Musical</th>\n",
              "      <td>-0.0890</td>\n",
              "      <td>-0.2576</td>\n",
              "      <td>-0.0085</td>\n",
              "      <td>-0.0247</td>\n",
              "      <td>-0.1420</td>\n",
              "      <td>-0.0504</td>\n",
              "      <td>0.4120</td>\n",
              "      <td>0.3960</td>\n",
              "      <td>0.0486</td>\n",
              "      <td>-0.1084</td>\n",
              "      <td>-0.0206</td>\n",
              "      <td>-0.0700</td>\n",
              "      <td>0.1686</td>\n",
              "      <td>-0.0253</td>\n",
              "      <td>-0.0117</td>\n",
              "      <td>0.0291</td>\n",
              "      <td>1.0000</td>\n",
              "      <td>-0.0660</td>\n",
              "      <td>0.0709</td>\n",
              "      <td>-0.0845</td>\n",
              "      <td>-0.1348</td>\n",
              "      <td>-0.0469</td>\n",
              "      <td>-0.0360</td>\n",
              "    </tr>\n",
              "    <tr>\n",
              "      <th>Mystery</th>\n",
              "      <td>0.0728</td>\n",
              "      <td>0.0247</td>\n",
              "      <td>0.1299</td>\n",
              "      <td>-0.0071</td>\n",
              "      <td>-0.0544</td>\n",
              "      <td>-0.0832</td>\n",
              "      <td>-0.0513</td>\n",
              "      <td>-0.0733</td>\n",
              "      <td>-0.1912</td>\n",
              "      <td>0.1130</td>\n",
              "      <td>-0.0276</td>\n",
              "      <td>0.0088</td>\n",
              "      <td>-0.0322</td>\n",
              "      <td>0.2443</td>\n",
              "      <td>0.1278</td>\n",
              "      <td>0.0240</td>\n",
              "      <td>-0.0660</td>\n",
              "      <td>1.0000</td>\n",
              "      <td>-0.0657</td>\n",
              "      <td>-0.0093</td>\n",
              "      <td>0.3134</td>\n",
              "      <td>-0.0628</td>\n",
              "      <td>-0.0482</td>\n",
              "    </tr>\n",
              "    <tr>\n",
              "      <th>Romance</th>\n",
              "      <td>-0.0787</td>\n",
              "      <td>-0.0125</td>\n",
              "      <td>-0.0720</td>\n",
              "      <td>-0.0454</td>\n",
              "      <td>-0.1993</td>\n",
              "      <td>-0.1632</td>\n",
              "      <td>0.0138</td>\n",
              "      <td>-0.0187</td>\n",
              "      <td>0.2288</td>\n",
              "      <td>-0.2106</td>\n",
              "      <td>-0.0453</td>\n",
              "      <td>0.0756</td>\n",
              "      <td>0.0173</td>\n",
              "      <td>-0.0556</td>\n",
              "      <td>-0.0975</td>\n",
              "      <td>-0.0774</td>\n",
              "      <td>0.0709</td>\n",
              "      <td>-0.0657</td>\n",
              "      <td>1.0000</td>\n",
              "      <td>-0.1868</td>\n",
              "      <td>-0.2106</td>\n",
              "      <td>0.0041</td>\n",
              "      <td>-0.0106</td>\n",
              "    </tr>\n",
              "    <tr>\n",
              "      <th>SciFi</th>\n",
              "      <td>0.0942</td>\n",
              "      <td>0.0942</td>\n",
              "      <td>-0.1367</td>\n",
              "      <td>0.0638</td>\n",
              "      <td>0.3354</td>\n",
              "      <td>0.2844</td>\n",
              "      <td>-0.0942</td>\n",
              "      <td>-0.0937</td>\n",
              "      <td>-0.2000</td>\n",
              "      <td>-0.1732</td>\n",
              "      <td>-0.0459</td>\n",
              "      <td>-0.1660</td>\n",
              "      <td>-0.1408</td>\n",
              "      <td>-0.0564</td>\n",
              "      <td>0.0160</td>\n",
              "      <td>0.1246</td>\n",
              "      <td>-0.0845</td>\n",
              "      <td>-0.0093</td>\n",
              "      <td>-0.1868</td>\n",
              "      <td>1.0000</td>\n",
              "      <td>0.1361</td>\n",
              "      <td>-0.1045</td>\n",
              "      <td>-0.0122</td>\n",
              "    </tr>\n",
              "    <tr>\n",
              "      <th>Thriller</th>\n",
              "      <td>0.0024</td>\n",
              "      <td>0.0620</td>\n",
              "      <td>-0.0168</td>\n",
              "      <td>0.0855</td>\n",
              "      <td>0.3014</td>\n",
              "      <td>-0.0086</td>\n",
              "      <td>-0.1672</td>\n",
              "      <td>-0.2028</td>\n",
              "      <td>-0.3604</td>\n",
              "      <td>0.2539</td>\n",
              "      <td>-0.0564</td>\n",
              "      <td>-0.0389</td>\n",
              "      <td>-0.1793</td>\n",
              "      <td>0.1449</td>\n",
              "      <td>0.0771</td>\n",
              "      <td>-0.0109</td>\n",
              "      <td>-0.1348</td>\n",
              "      <td>0.3134</td>\n",
              "      <td>-0.2106</td>\n",
              "      <td>0.1361</td>\n",
              "      <td>1.0000</td>\n",
              "      <td>-0.0568</td>\n",
              "      <td>-0.0985</td>\n",
              "    </tr>\n",
              "    <tr>\n",
              "      <th>War</th>\n",
              "      <td>0.0392</td>\n",
              "      <td>-0.0002</td>\n",
              "      <td>0.1256</td>\n",
              "      <td>0.0880</td>\n",
              "      <td>0.0662</td>\n",
              "      <td>-0.0863</td>\n",
              "      <td>-0.0582</td>\n",
              "      <td>-0.0706</td>\n",
              "      <td>-0.0836</td>\n",
              "      <td>-0.0763</td>\n",
              "      <td>-0.0196</td>\n",
              "      <td>0.2044</td>\n",
              "      <td>-0.0562</td>\n",
              "      <td>-0.0241</td>\n",
              "      <td>-0.0523</td>\n",
              "      <td>-0.0088</td>\n",
              "      <td>-0.0469</td>\n",
              "      <td>-0.0628</td>\n",
              "      <td>0.0041</td>\n",
              "      <td>-0.1045</td>\n",
              "      <td>-0.0568</td>\n",
              "      <td>1.0000</td>\n",
              "      <td>0.0326</td>\n",
              "    </tr>\n",
              "    <tr>\n",
              "      <th>Western</th>\n",
              "      <td>-0.0149</td>\n",
              "      <td>-0.0443</td>\n",
              "      <td>-0.0596</td>\n",
              "      <td>-0.0608</td>\n",
              "      <td>0.0509</td>\n",
              "      <td>0.0476</td>\n",
              "      <td>-0.0447</td>\n",
              "      <td>-0.0542</td>\n",
              "      <td>0.0078</td>\n",
              "      <td>-0.0792</td>\n",
              "      <td>-0.0151</td>\n",
              "      <td>-0.0157</td>\n",
              "      <td>-0.0663</td>\n",
              "      <td>-0.0185</td>\n",
              "      <td>-0.0401</td>\n",
              "      <td>-0.0409</td>\n",
              "      <td>-0.0360</td>\n",
              "      <td>-0.0482</td>\n",
              "      <td>-0.0106</td>\n",
              "      <td>-0.0122</td>\n",
              "      <td>-0.0985</td>\n",
              "      <td>0.0326</td>\n",
              "      <td>1.0000</td>\n",
              "    </tr>\n",
              "  </tbody>\n",
              "</table>\n",
              "</div>"
            ],
            "text/plain": [
              "                   filmesId  ano_de_lancamento  ...     War  Western\n",
              "filmesId             1.0000             0.4165  ...  0.0392  -0.0149\n",
              "ano_de_lancamento    0.4165             1.0000  ... -0.0002  -0.0443\n",
              "nota_media           0.1751            -0.1591  ...  0.1256  -0.0596\n",
              "total_de_votos      -0.2059            -0.0287  ...  0.0880  -0.0608\n",
              "Action               0.1086             0.1713  ...  0.0662   0.0509\n",
              "Adventure            0.1237             0.1309  ... -0.0863   0.0476\n",
              "Animation            0.0417            -0.0216  ... -0.0582  -0.0447\n",
              "Children             0.0025            -0.1089  ... -0.0706  -0.0542\n",
              "Comedy              -0.0953             0.0560  ... -0.0836   0.0078\n",
              "Crime                0.0205             0.0264  ... -0.0763  -0.0792\n",
              "Documentary          0.0023             0.0444  ... -0.0196  -0.0151\n",
              "Drama                0.0441            -0.0261  ...  0.2044  -0.0157\n",
              "Fantasy              0.0122            -0.0503  ... -0.0562  -0.0663\n",
              "FilmNoir             0.0101            -0.1229  ... -0.0241  -0.0185\n",
              "Horror              -0.0465            -0.0282  ... -0.0523  -0.0401\n",
              "IMAX                 0.4106             0.2352  ... -0.0088  -0.0409\n",
              "Musical             -0.0890            -0.2576  ... -0.0469  -0.0360\n",
              "Mystery              0.0728             0.0247  ... -0.0628  -0.0482\n",
              "Romance             -0.0787            -0.0125  ...  0.0041  -0.0106\n",
              "SciFi                0.0942             0.0942  ... -0.1045  -0.0122\n",
              "Thriller             0.0024             0.0620  ... -0.0568  -0.0985\n",
              "War                  0.0392            -0.0002  ...  1.0000   0.0326\n",
              "Western             -0.0149            -0.0443  ...  0.0326   1.0000\n",
              "\n",
              "[23 rows x 23 columns]"
            ]
          },
          "metadata": {
            "tags": []
          },
          "execution_count": 105
        }
      ]
    },
    {
      "cell_type": "markdown",
      "metadata": {
        "id": "az4ukrjJEJZx",
        "colab_type": "text"
      },
      "source": [
        "## Pergunta: Quais são os 2 generos com maior valor de correlação com `total_de_votos`? E quais os 2 com menor valor de correlação com `total_de_votos`?"
      ]
    },
    {
      "cell_type": "code",
      "metadata": {
        "id": "JWqElbSwEJZy",
        "colab_type": "code",
        "outputId": "aff33202-2133-45c8-a3af-74302c5c7837",
        "colab": {
          "base_uri": "https://localhost:8080/",
          "height": 782
        }
      },
      "source": [
        "# solucao\n",
        "filmes.corr().round(4)\n",
        "# Maior correlação: Adventure, War\n",
        "# Menor correlação: Comedy, Western"
      ],
      "execution_count": 106,
      "outputs": [
        {
          "output_type": "execute_result",
          "data": {
            "text/html": [
              "<div>\n",
              "<style scoped>\n",
              "    .dataframe tbody tr th:only-of-type {\n",
              "        vertical-align: middle;\n",
              "    }\n",
              "\n",
              "    .dataframe tbody tr th {\n",
              "        vertical-align: top;\n",
              "    }\n",
              "\n",
              "    .dataframe thead th {\n",
              "        text-align: right;\n",
              "    }\n",
              "</style>\n",
              "<table border=\"1\" class=\"dataframe\">\n",
              "  <thead>\n",
              "    <tr style=\"text-align: right;\">\n",
              "      <th></th>\n",
              "      <th>filmesId</th>\n",
              "      <th>ano_de_lancamento</th>\n",
              "      <th>nota_media</th>\n",
              "      <th>total_de_votos</th>\n",
              "      <th>Action</th>\n",
              "      <th>Adventure</th>\n",
              "      <th>Animation</th>\n",
              "      <th>Children</th>\n",
              "      <th>Comedy</th>\n",
              "      <th>Crime</th>\n",
              "      <th>Documentary</th>\n",
              "      <th>Drama</th>\n",
              "      <th>Fantasy</th>\n",
              "      <th>FilmNoir</th>\n",
              "      <th>Horror</th>\n",
              "      <th>IMAX</th>\n",
              "      <th>Musical</th>\n",
              "      <th>Mystery</th>\n",
              "      <th>Romance</th>\n",
              "      <th>SciFi</th>\n",
              "      <th>Thriller</th>\n",
              "      <th>War</th>\n",
              "      <th>Western</th>\n",
              "    </tr>\n",
              "  </thead>\n",
              "  <tbody>\n",
              "    <tr>\n",
              "      <th>filmesId</th>\n",
              "      <td>1.0000</td>\n",
              "      <td>0.4165</td>\n",
              "      <td>0.1751</td>\n",
              "      <td>-0.2059</td>\n",
              "      <td>0.1086</td>\n",
              "      <td>0.1237</td>\n",
              "      <td>0.0417</td>\n",
              "      <td>0.0025</td>\n",
              "      <td>-0.0953</td>\n",
              "      <td>0.0205</td>\n",
              "      <td>0.0023</td>\n",
              "      <td>0.0441</td>\n",
              "      <td>0.0122</td>\n",
              "      <td>0.0101</td>\n",
              "      <td>-0.0465</td>\n",
              "      <td>0.4106</td>\n",
              "      <td>-0.0890</td>\n",
              "      <td>0.0728</td>\n",
              "      <td>-0.0787</td>\n",
              "      <td>0.0942</td>\n",
              "      <td>0.0024</td>\n",
              "      <td>0.0392</td>\n",
              "      <td>-0.0149</td>\n",
              "    </tr>\n",
              "    <tr>\n",
              "      <th>ano_de_lancamento</th>\n",
              "      <td>0.4165</td>\n",
              "      <td>1.0000</td>\n",
              "      <td>-0.1591</td>\n",
              "      <td>-0.0287</td>\n",
              "      <td>0.1713</td>\n",
              "      <td>0.1309</td>\n",
              "      <td>-0.0216</td>\n",
              "      <td>-0.1089</td>\n",
              "      <td>0.0560</td>\n",
              "      <td>0.0264</td>\n",
              "      <td>0.0444</td>\n",
              "      <td>-0.0261</td>\n",
              "      <td>-0.0503</td>\n",
              "      <td>-0.1229</td>\n",
              "      <td>-0.0282</td>\n",
              "      <td>0.2352</td>\n",
              "      <td>-0.2576</td>\n",
              "      <td>0.0247</td>\n",
              "      <td>-0.0125</td>\n",
              "      <td>0.0942</td>\n",
              "      <td>0.0620</td>\n",
              "      <td>-0.0002</td>\n",
              "      <td>-0.0443</td>\n",
              "    </tr>\n",
              "    <tr>\n",
              "      <th>nota_media</th>\n",
              "      <td>0.1751</td>\n",
              "      <td>-0.1591</td>\n",
              "      <td>1.0000</td>\n",
              "      <td>0.3426</td>\n",
              "      <td>-0.1541</td>\n",
              "      <td>-0.0800</td>\n",
              "      <td>0.0431</td>\n",
              "      <td>-0.0304</td>\n",
              "      <td>-0.2560</td>\n",
              "      <td>0.1902</td>\n",
              "      <td>-0.0035</td>\n",
              "      <td>0.2777</td>\n",
              "      <td>-0.0210</td>\n",
              "      <td>0.0818</td>\n",
              "      <td>-0.0339</td>\n",
              "      <td>0.0649</td>\n",
              "      <td>-0.0085</td>\n",
              "      <td>0.1299</td>\n",
              "      <td>-0.0720</td>\n",
              "      <td>-0.1367</td>\n",
              "      <td>-0.0168</td>\n",
              "      <td>0.1256</td>\n",
              "      <td>-0.0596</td>\n",
              "    </tr>\n",
              "    <tr>\n",
              "      <th>total_de_votos</th>\n",
              "      <td>-0.2059</td>\n",
              "      <td>-0.0287</td>\n",
              "      <td>0.3426</td>\n",
              "      <td>1.0000</td>\n",
              "      <td>0.0662</td>\n",
              "      <td>0.1044</td>\n",
              "      <td>0.0234</td>\n",
              "      <td>0.0018</td>\n",
              "      <td>-0.1285</td>\n",
              "      <td>0.0798</td>\n",
              "      <td>-0.0550</td>\n",
              "      <td>0.0188</td>\n",
              "      <td>-0.0100</td>\n",
              "      <td>-0.0394</td>\n",
              "      <td>-0.0361</td>\n",
              "      <td>-0.0163</td>\n",
              "      <td>-0.0247</td>\n",
              "      <td>-0.0071</td>\n",
              "      <td>-0.0454</td>\n",
              "      <td>0.0638</td>\n",
              "      <td>0.0855</td>\n",
              "      <td>0.0880</td>\n",
              "      <td>-0.0608</td>\n",
              "    </tr>\n",
              "    <tr>\n",
              "      <th>Action</th>\n",
              "      <td>0.1086</td>\n",
              "      <td>0.1713</td>\n",
              "      <td>-0.1541</td>\n",
              "      <td>0.0662</td>\n",
              "      <td>1.0000</td>\n",
              "      <td>0.3415</td>\n",
              "      <td>-0.1673</td>\n",
              "      <td>-0.2007</td>\n",
              "      <td>-0.2703</td>\n",
              "      <td>0.0621</td>\n",
              "      <td>-0.0682</td>\n",
              "      <td>-0.2618</td>\n",
              "      <td>-0.1084</td>\n",
              "      <td>-0.0439</td>\n",
              "      <td>-0.0089</td>\n",
              "      <td>0.1357</td>\n",
              "      <td>-0.1420</td>\n",
              "      <td>-0.0544</td>\n",
              "      <td>-0.1993</td>\n",
              "      <td>0.3354</td>\n",
              "      <td>0.3014</td>\n",
              "      <td>0.0662</td>\n",
              "      <td>0.0509</td>\n",
              "    </tr>\n",
              "    <tr>\n",
              "      <th>Adventure</th>\n",
              "      <td>0.1237</td>\n",
              "      <td>0.1309</td>\n",
              "      <td>-0.0800</td>\n",
              "      <td>0.1044</td>\n",
              "      <td>0.3415</td>\n",
              "      <td>1.0000</td>\n",
              "      <td>0.1595</td>\n",
              "      <td>0.1835</td>\n",
              "      <td>-0.0804</td>\n",
              "      <td>-0.2353</td>\n",
              "      <td>-0.0585</td>\n",
              "      <td>-0.2887</td>\n",
              "      <td>0.2429</td>\n",
              "      <td>-0.0718</td>\n",
              "      <td>-0.0950</td>\n",
              "      <td>0.2206</td>\n",
              "      <td>-0.0504</td>\n",
              "      <td>-0.0832</td>\n",
              "      <td>-0.1632</td>\n",
              "      <td>0.2844</td>\n",
              "      <td>-0.0086</td>\n",
              "      <td>-0.0863</td>\n",
              "      <td>0.0476</td>\n",
              "    </tr>\n",
              "    <tr>\n",
              "      <th>Animation</th>\n",
              "      <td>0.0417</td>\n",
              "      <td>-0.0216</td>\n",
              "      <td>0.0431</td>\n",
              "      <td>0.0234</td>\n",
              "      <td>-0.1673</td>\n",
              "      <td>0.1595</td>\n",
              "      <td>1.0000</td>\n",
              "      <td>0.7410</td>\n",
              "      <td>0.1200</td>\n",
              "      <td>-0.0920</td>\n",
              "      <td>0.0651</td>\n",
              "      <td>-0.1298</td>\n",
              "      <td>0.2210</td>\n",
              "      <td>-0.0314</td>\n",
              "      <td>-0.0682</td>\n",
              "      <td>0.1065</td>\n",
              "      <td>0.4120</td>\n",
              "      <td>-0.0513</td>\n",
              "      <td>0.0138</td>\n",
              "      <td>-0.0942</td>\n",
              "      <td>-0.1672</td>\n",
              "      <td>-0.0582</td>\n",
              "      <td>-0.0447</td>\n",
              "    </tr>\n",
              "    <tr>\n",
              "      <th>Children</th>\n",
              "      <td>0.0025</td>\n",
              "      <td>-0.1089</td>\n",
              "      <td>-0.0304</td>\n",
              "      <td>0.0018</td>\n",
              "      <td>-0.2007</td>\n",
              "      <td>0.1835</td>\n",
              "      <td>0.7410</td>\n",
              "      <td>1.0000</td>\n",
              "      <td>0.1240</td>\n",
              "      <td>-0.1270</td>\n",
              "      <td>-0.0310</td>\n",
              "      <td>-0.1300</td>\n",
              "      <td>0.3709</td>\n",
              "      <td>-0.0381</td>\n",
              "      <td>-0.0827</td>\n",
              "      <td>0.0956</td>\n",
              "      <td>0.3960</td>\n",
              "      <td>-0.0733</td>\n",
              "      <td>-0.0187</td>\n",
              "      <td>-0.0937</td>\n",
              "      <td>-0.2028</td>\n",
              "      <td>-0.0706</td>\n",
              "      <td>-0.0542</td>\n",
              "    </tr>\n",
              "    <tr>\n",
              "      <th>Comedy</th>\n",
              "      <td>-0.0953</td>\n",
              "      <td>0.0560</td>\n",
              "      <td>-0.2560</td>\n",
              "      <td>-0.1285</td>\n",
              "      <td>-0.2703</td>\n",
              "      <td>-0.0804</td>\n",
              "      <td>0.1200</td>\n",
              "      <td>0.1240</td>\n",
              "      <td>1.0000</td>\n",
              "      <td>-0.1264</td>\n",
              "      <td>-0.0272</td>\n",
              "      <td>-0.2972</td>\n",
              "      <td>0.0957</td>\n",
              "      <td>-0.0917</td>\n",
              "      <td>-0.0303</td>\n",
              "      <td>-0.1477</td>\n",
              "      <td>0.0486</td>\n",
              "      <td>-0.1912</td>\n",
              "      <td>0.2288</td>\n",
              "      <td>-0.2000</td>\n",
              "      <td>-0.3604</td>\n",
              "      <td>-0.0836</td>\n",
              "      <td>0.0078</td>\n",
              "    </tr>\n",
              "    <tr>\n",
              "      <th>Crime</th>\n",
              "      <td>0.0205</td>\n",
              "      <td>0.0264</td>\n",
              "      <td>0.1902</td>\n",
              "      <td>0.0798</td>\n",
              "      <td>0.0621</td>\n",
              "      <td>-0.2353</td>\n",
              "      <td>-0.0920</td>\n",
              "      <td>-0.1270</td>\n",
              "      <td>-0.1264</td>\n",
              "      <td>1.0000</td>\n",
              "      <td>-0.0453</td>\n",
              "      <td>0.0868</td>\n",
              "      <td>-0.1530</td>\n",
              "      <td>0.2335</td>\n",
              "      <td>-0.0510</td>\n",
              "      <td>-0.0317</td>\n",
              "      <td>-0.1084</td>\n",
              "      <td>0.1130</td>\n",
              "      <td>-0.2106</td>\n",
              "      <td>-0.1732</td>\n",
              "      <td>0.2539</td>\n",
              "      <td>-0.0763</td>\n",
              "      <td>-0.0792</td>\n",
              "    </tr>\n",
              "    <tr>\n",
              "      <th>Documentary</th>\n",
              "      <td>0.0023</td>\n",
              "      <td>0.0444</td>\n",
              "      <td>-0.0035</td>\n",
              "      <td>-0.0550</td>\n",
              "      <td>-0.0682</td>\n",
              "      <td>-0.0585</td>\n",
              "      <td>0.0651</td>\n",
              "      <td>-0.0310</td>\n",
              "      <td>-0.0272</td>\n",
              "      <td>-0.0453</td>\n",
              "      <td>1.0000</td>\n",
              "      <td>-0.0249</td>\n",
              "      <td>-0.0380</td>\n",
              "      <td>-0.0106</td>\n",
              "      <td>-0.0230</td>\n",
              "      <td>-0.0234</td>\n",
              "      <td>-0.0206</td>\n",
              "      <td>-0.0276</td>\n",
              "      <td>-0.0453</td>\n",
              "      <td>-0.0459</td>\n",
              "      <td>-0.0564</td>\n",
              "      <td>-0.0196</td>\n",
              "      <td>-0.0151</td>\n",
              "    </tr>\n",
              "    <tr>\n",
              "      <th>Drama</th>\n",
              "      <td>0.0441</td>\n",
              "      <td>-0.0261</td>\n",
              "      <td>0.2777</td>\n",
              "      <td>0.0188</td>\n",
              "      <td>-0.2618</td>\n",
              "      <td>-0.2887</td>\n",
              "      <td>-0.1298</td>\n",
              "      <td>-0.1300</td>\n",
              "      <td>-0.2972</td>\n",
              "      <td>0.0868</td>\n",
              "      <td>-0.0249</td>\n",
              "      <td>1.0000</td>\n",
              "      <td>-0.1192</td>\n",
              "      <td>-0.0110</td>\n",
              "      <td>-0.0995</td>\n",
              "      <td>-0.0863</td>\n",
              "      <td>-0.0700</td>\n",
              "      <td>0.0088</td>\n",
              "      <td>0.0756</td>\n",
              "      <td>-0.1660</td>\n",
              "      <td>-0.0389</td>\n",
              "      <td>0.2044</td>\n",
              "      <td>-0.0157</td>\n",
              "    </tr>\n",
              "    <tr>\n",
              "      <th>Fantasy</th>\n",
              "      <td>0.0122</td>\n",
              "      <td>-0.0503</td>\n",
              "      <td>-0.0210</td>\n",
              "      <td>-0.0100</td>\n",
              "      <td>-0.1084</td>\n",
              "      <td>0.2429</td>\n",
              "      <td>0.2210</td>\n",
              "      <td>0.3709</td>\n",
              "      <td>0.0957</td>\n",
              "      <td>-0.1530</td>\n",
              "      <td>-0.0380</td>\n",
              "      <td>-0.1192</td>\n",
              "      <td>1.0000</td>\n",
              "      <td>-0.0466</td>\n",
              "      <td>-0.0226</td>\n",
              "      <td>0.1541</td>\n",
              "      <td>0.1686</td>\n",
              "      <td>-0.0322</td>\n",
              "      <td>0.0173</td>\n",
              "      <td>-0.1408</td>\n",
              "      <td>-0.1793</td>\n",
              "      <td>-0.0562</td>\n",
              "      <td>-0.0663</td>\n",
              "    </tr>\n",
              "    <tr>\n",
              "      <th>FilmNoir</th>\n",
              "      <td>0.0101</td>\n",
              "      <td>-0.1229</td>\n",
              "      <td>0.0818</td>\n",
              "      <td>-0.0394</td>\n",
              "      <td>-0.0439</td>\n",
              "      <td>-0.0718</td>\n",
              "      <td>-0.0314</td>\n",
              "      <td>-0.0381</td>\n",
              "      <td>-0.0917</td>\n",
              "      <td>0.2335</td>\n",
              "      <td>-0.0106</td>\n",
              "      <td>-0.0110</td>\n",
              "      <td>-0.0466</td>\n",
              "      <td>1.0000</td>\n",
              "      <td>-0.0282</td>\n",
              "      <td>-0.0287</td>\n",
              "      <td>-0.0253</td>\n",
              "      <td>0.2443</td>\n",
              "      <td>-0.0556</td>\n",
              "      <td>-0.0564</td>\n",
              "      <td>0.1449</td>\n",
              "      <td>-0.0241</td>\n",
              "      <td>-0.0185</td>\n",
              "    </tr>\n",
              "    <tr>\n",
              "      <th>Horror</th>\n",
              "      <td>-0.0465</td>\n",
              "      <td>-0.0282</td>\n",
              "      <td>-0.0339</td>\n",
              "      <td>-0.0361</td>\n",
              "      <td>-0.0089</td>\n",
              "      <td>-0.0950</td>\n",
              "      <td>-0.0682</td>\n",
              "      <td>-0.0827</td>\n",
              "      <td>-0.0303</td>\n",
              "      <td>-0.0510</td>\n",
              "      <td>-0.0230</td>\n",
              "      <td>-0.0995</td>\n",
              "      <td>-0.0226</td>\n",
              "      <td>-0.0282</td>\n",
              "      <td>1.0000</td>\n",
              "      <td>-0.0238</td>\n",
              "      <td>-0.0117</td>\n",
              "      <td>0.1278</td>\n",
              "      <td>-0.0975</td>\n",
              "      <td>0.0160</td>\n",
              "      <td>0.0771</td>\n",
              "      <td>-0.0523</td>\n",
              "      <td>-0.0401</td>\n",
              "    </tr>\n",
              "    <tr>\n",
              "      <th>IMAX</th>\n",
              "      <td>0.4106</td>\n",
              "      <td>0.2352</td>\n",
              "      <td>0.0649</td>\n",
              "      <td>-0.0163</td>\n",
              "      <td>0.1357</td>\n",
              "      <td>0.2206</td>\n",
              "      <td>0.1065</td>\n",
              "      <td>0.0956</td>\n",
              "      <td>-0.1477</td>\n",
              "      <td>-0.0317</td>\n",
              "      <td>-0.0234</td>\n",
              "      <td>-0.0863</td>\n",
              "      <td>0.1541</td>\n",
              "      <td>-0.0287</td>\n",
              "      <td>-0.0238</td>\n",
              "      <td>1.0000</td>\n",
              "      <td>0.0291</td>\n",
              "      <td>0.0240</td>\n",
              "      <td>-0.0774</td>\n",
              "      <td>0.1246</td>\n",
              "      <td>-0.0109</td>\n",
              "      <td>-0.0088</td>\n",
              "      <td>-0.0409</td>\n",
              "    </tr>\n",
              "    <tr>\n",
              "      <th>Musical</th>\n",
              "      <td>-0.0890</td>\n",
              "      <td>-0.2576</td>\n",
              "      <td>-0.0085</td>\n",
              "      <td>-0.0247</td>\n",
              "      <td>-0.1420</td>\n",
              "      <td>-0.0504</td>\n",
              "      <td>0.4120</td>\n",
              "      <td>0.3960</td>\n",
              "      <td>0.0486</td>\n",
              "      <td>-0.1084</td>\n",
              "      <td>-0.0206</td>\n",
              "      <td>-0.0700</td>\n",
              "      <td>0.1686</td>\n",
              "      <td>-0.0253</td>\n",
              "      <td>-0.0117</td>\n",
              "      <td>0.0291</td>\n",
              "      <td>1.0000</td>\n",
              "      <td>-0.0660</td>\n",
              "      <td>0.0709</td>\n",
              "      <td>-0.0845</td>\n",
              "      <td>-0.1348</td>\n",
              "      <td>-0.0469</td>\n",
              "      <td>-0.0360</td>\n",
              "    </tr>\n",
              "    <tr>\n",
              "      <th>Mystery</th>\n",
              "      <td>0.0728</td>\n",
              "      <td>0.0247</td>\n",
              "      <td>0.1299</td>\n",
              "      <td>-0.0071</td>\n",
              "      <td>-0.0544</td>\n",
              "      <td>-0.0832</td>\n",
              "      <td>-0.0513</td>\n",
              "      <td>-0.0733</td>\n",
              "      <td>-0.1912</td>\n",
              "      <td>0.1130</td>\n",
              "      <td>-0.0276</td>\n",
              "      <td>0.0088</td>\n",
              "      <td>-0.0322</td>\n",
              "      <td>0.2443</td>\n",
              "      <td>0.1278</td>\n",
              "      <td>0.0240</td>\n",
              "      <td>-0.0660</td>\n",
              "      <td>1.0000</td>\n",
              "      <td>-0.0657</td>\n",
              "      <td>-0.0093</td>\n",
              "      <td>0.3134</td>\n",
              "      <td>-0.0628</td>\n",
              "      <td>-0.0482</td>\n",
              "    </tr>\n",
              "    <tr>\n",
              "      <th>Romance</th>\n",
              "      <td>-0.0787</td>\n",
              "      <td>-0.0125</td>\n",
              "      <td>-0.0720</td>\n",
              "      <td>-0.0454</td>\n",
              "      <td>-0.1993</td>\n",
              "      <td>-0.1632</td>\n",
              "      <td>0.0138</td>\n",
              "      <td>-0.0187</td>\n",
              "      <td>0.2288</td>\n",
              "      <td>-0.2106</td>\n",
              "      <td>-0.0453</td>\n",
              "      <td>0.0756</td>\n",
              "      <td>0.0173</td>\n",
              "      <td>-0.0556</td>\n",
              "      <td>-0.0975</td>\n",
              "      <td>-0.0774</td>\n",
              "      <td>0.0709</td>\n",
              "      <td>-0.0657</td>\n",
              "      <td>1.0000</td>\n",
              "      <td>-0.1868</td>\n",
              "      <td>-0.2106</td>\n",
              "      <td>0.0041</td>\n",
              "      <td>-0.0106</td>\n",
              "    </tr>\n",
              "    <tr>\n",
              "      <th>SciFi</th>\n",
              "      <td>0.0942</td>\n",
              "      <td>0.0942</td>\n",
              "      <td>-0.1367</td>\n",
              "      <td>0.0638</td>\n",
              "      <td>0.3354</td>\n",
              "      <td>0.2844</td>\n",
              "      <td>-0.0942</td>\n",
              "      <td>-0.0937</td>\n",
              "      <td>-0.2000</td>\n",
              "      <td>-0.1732</td>\n",
              "      <td>-0.0459</td>\n",
              "      <td>-0.1660</td>\n",
              "      <td>-0.1408</td>\n",
              "      <td>-0.0564</td>\n",
              "      <td>0.0160</td>\n",
              "      <td>0.1246</td>\n",
              "      <td>-0.0845</td>\n",
              "      <td>-0.0093</td>\n",
              "      <td>-0.1868</td>\n",
              "      <td>1.0000</td>\n",
              "      <td>0.1361</td>\n",
              "      <td>-0.1045</td>\n",
              "      <td>-0.0122</td>\n",
              "    </tr>\n",
              "    <tr>\n",
              "      <th>Thriller</th>\n",
              "      <td>0.0024</td>\n",
              "      <td>0.0620</td>\n",
              "      <td>-0.0168</td>\n",
              "      <td>0.0855</td>\n",
              "      <td>0.3014</td>\n",
              "      <td>-0.0086</td>\n",
              "      <td>-0.1672</td>\n",
              "      <td>-0.2028</td>\n",
              "      <td>-0.3604</td>\n",
              "      <td>0.2539</td>\n",
              "      <td>-0.0564</td>\n",
              "      <td>-0.0389</td>\n",
              "      <td>-0.1793</td>\n",
              "      <td>0.1449</td>\n",
              "      <td>0.0771</td>\n",
              "      <td>-0.0109</td>\n",
              "      <td>-0.1348</td>\n",
              "      <td>0.3134</td>\n",
              "      <td>-0.2106</td>\n",
              "      <td>0.1361</td>\n",
              "      <td>1.0000</td>\n",
              "      <td>-0.0568</td>\n",
              "      <td>-0.0985</td>\n",
              "    </tr>\n",
              "    <tr>\n",
              "      <th>War</th>\n",
              "      <td>0.0392</td>\n",
              "      <td>-0.0002</td>\n",
              "      <td>0.1256</td>\n",
              "      <td>0.0880</td>\n",
              "      <td>0.0662</td>\n",
              "      <td>-0.0863</td>\n",
              "      <td>-0.0582</td>\n",
              "      <td>-0.0706</td>\n",
              "      <td>-0.0836</td>\n",
              "      <td>-0.0763</td>\n",
              "      <td>-0.0196</td>\n",
              "      <td>0.2044</td>\n",
              "      <td>-0.0562</td>\n",
              "      <td>-0.0241</td>\n",
              "      <td>-0.0523</td>\n",
              "      <td>-0.0088</td>\n",
              "      <td>-0.0469</td>\n",
              "      <td>-0.0628</td>\n",
              "      <td>0.0041</td>\n",
              "      <td>-0.1045</td>\n",
              "      <td>-0.0568</td>\n",
              "      <td>1.0000</td>\n",
              "      <td>0.0326</td>\n",
              "    </tr>\n",
              "    <tr>\n",
              "      <th>Western</th>\n",
              "      <td>-0.0149</td>\n",
              "      <td>-0.0443</td>\n",
              "      <td>-0.0596</td>\n",
              "      <td>-0.0608</td>\n",
              "      <td>0.0509</td>\n",
              "      <td>0.0476</td>\n",
              "      <td>-0.0447</td>\n",
              "      <td>-0.0542</td>\n",
              "      <td>0.0078</td>\n",
              "      <td>-0.0792</td>\n",
              "      <td>-0.0151</td>\n",
              "      <td>-0.0157</td>\n",
              "      <td>-0.0663</td>\n",
              "      <td>-0.0185</td>\n",
              "      <td>-0.0401</td>\n",
              "      <td>-0.0409</td>\n",
              "      <td>-0.0360</td>\n",
              "      <td>-0.0482</td>\n",
              "      <td>-0.0106</td>\n",
              "      <td>-0.0122</td>\n",
              "      <td>-0.0985</td>\n",
              "      <td>0.0326</td>\n",
              "      <td>1.0000</td>\n",
              "    </tr>\n",
              "  </tbody>\n",
              "</table>\n",
              "</div>"
            ],
            "text/plain": [
              "                   filmesId  ano_de_lancamento  ...     War  Western\n",
              "filmesId             1.0000             0.4165  ...  0.0392  -0.0149\n",
              "ano_de_lancamento    0.4165             1.0000  ... -0.0002  -0.0443\n",
              "nota_media           0.1751            -0.1591  ...  0.1256  -0.0596\n",
              "total_de_votos      -0.2059            -0.0287  ...  0.0880  -0.0608\n",
              "Action               0.1086             0.1713  ...  0.0662   0.0509\n",
              "Adventure            0.1237             0.1309  ... -0.0863   0.0476\n",
              "Animation            0.0417            -0.0216  ... -0.0582  -0.0447\n",
              "Children             0.0025            -0.1089  ... -0.0706  -0.0542\n",
              "Comedy              -0.0953             0.0560  ... -0.0836   0.0078\n",
              "Crime                0.0205             0.0264  ... -0.0763  -0.0792\n",
              "Documentary          0.0023             0.0444  ... -0.0196  -0.0151\n",
              "Drama                0.0441            -0.0261  ...  0.2044  -0.0157\n",
              "Fantasy              0.0122            -0.0503  ... -0.0562  -0.0663\n",
              "FilmNoir             0.0101            -0.1229  ... -0.0241  -0.0185\n",
              "Horror              -0.0465            -0.0282  ... -0.0523  -0.0401\n",
              "IMAX                 0.4106             0.2352  ... -0.0088  -0.0409\n",
              "Musical             -0.0890            -0.2576  ... -0.0469  -0.0360\n",
              "Mystery              0.0728             0.0247  ... -0.0628  -0.0482\n",
              "Romance             -0.0787            -0.0125  ...  0.0041  -0.0106\n",
              "SciFi                0.0942             0.0942  ... -0.1045  -0.0122\n",
              "Thriller             0.0024             0.0620  ... -0.0568  -0.0985\n",
              "War                  0.0392            -0.0002  ...  1.0000   0.0326\n",
              "Western             -0.0149            -0.0443  ...  0.0326   1.0000\n",
              "\n",
              "[23 rows x 23 columns]"
            ]
          },
          "metadata": {
            "tags": []
          },
          "execution_count": 106
        }
      ]
    },
    {
      "cell_type": "markdown",
      "metadata": {
        "id": "rl3olUJ-EJZz",
        "colab_type": "text"
      },
      "source": [
        "## Pergunta: Visualize graficamente o relacionamento entre ano de lançamento e nota média\n",
        "\n",
        "- Use o gráfico `lineplot`"
      ]
    },
    {
      "cell_type": "code",
      "metadata": {
        "id": "HHKe2JiwEJZz",
        "colab_type": "code",
        "outputId": "e58843bb-5a65-44dc-fff1-d3a327f72476",
        "colab": {
          "base_uri": "https://localhost:8080/",
          "height": 670
        }
      },
      "source": [
        "# solucao\n",
        "ax = sns.lineplot(y = 'nota_media', x = 'ano_de_lancamento', data = filmes )\n",
        "ax.figure.set_size_inches(22,10)\n",
        "ax.set_title('Relacionamento entre o ano de lançamento e a média das notas', fontsize = 20)\n",
        "ax.set_ylabel('Média das notas', fontsize = 16)\n",
        "ax.set_xlabel('Ano de lançamento', fontsize = 16)\n"
      ],
      "execution_count": 107,
      "outputs": [
        {
          "output_type": "execute_result",
          "data": {
            "text/plain": [
              "Text(0.5, 0, 'Ano de lançamento')"
            ]
          },
          "metadata": {
            "tags": []
          },
          "execution_count": 107
        },
        {
          "output_type": "display_data",
          "data": {
            "image/png": "[encoded data removed]",
            "text/plain": [
              "<Figure size 1584x720 with 1 Axes>"
            ]
          },
          "metadata": {
            "tags": []
          }
        }
      ]
    },
    {
      "cell_type": "markdown",
      "metadata": {
        "id": "3_qxeIimEJZ0",
        "colab_type": "text"
      },
      "source": [
        "## Pergunta: Interprete a correlação entre `ano_de_lancamento` e a `nota_media`?\n",
        "\n",
        "- Calcule a correlação numericamente (use o `corr` do pandas)\n",
        "- Correlação não implica causalidade, qual \"problema\" na coleta dos dados pode gerar esse tipo de correlação?"
      ]
    },
    {
      "cell_type": "code",
      "metadata": {
        "id": "fb6__066EJZ1",
        "colab_type": "code",
        "outputId": "fdf8753b-87b9-4f15-e41b-0dd316d6fd17",
        "colab": {
          "base_uri": "https://localhost:8080/",
          "height": 34
        }
      },
      "source": [
        "# solução (código)\n",
        "filmes.ano_de_lancamento.corr(filmes.nota_media).round(4)"
      ],
      "execution_count": 108,
      "outputs": [
        {
          "output_type": "execute_result",
          "data": {
            "text/plain": [
              "-0.1591"
            ]
          },
          "metadata": {
            "tags": []
          },
          "execution_count": 108
        }
      ]
    },
    {
      "cell_type": "markdown",
      "metadata": {
        "id": "cyfWRfNREJZ2",
        "colab_type": "text"
      },
      "source": [
        "### Solução (explicação)\n",
        "\n",
        "Esse tipo de correlação pode influenciar como os outros dados são tradados, ignorando dados mais relevantes."
      ]
    },
    {
      "cell_type": "markdown",
      "metadata": {
        "id": "SbqpLw1JEJZ3",
        "colab_type": "text"
      },
      "source": [
        "## Pergunta: analise um pairplot\n",
        "\n",
        "- crie uma variável chamada `infos` baseada nas colunas `ano_de_lancamento`, `nota_media` e `total_de_votos` de `filmes`\n",
        "- faça o pairplot usando seaborn\n",
        "- coloque uma regressão linear para cada pequeno plot dentro dele"
      ]
    },
    {
      "cell_type": "code",
      "metadata": {
        "id": "x4IOljQNEJZ3",
        "colab_type": "code",
        "outputId": "f780c94c-601a-4064-cb8e-6e5a500ef13f",
        "colab": {
          "base_uri": "https://localhost:8080/",
          "height": 615
        }
      },
      "source": [
        "# solução\n",
        "infos = filmes.filter(['ano_de_lancamento','nota_media','total_de_votos'], axis = 1)\n",
        "ax = sns.pairplot(data = infos, kind= 'reg')\n",
        "ax.fig.suptitle('Dispersão entre as variáveis', fontsize = 20, y = 1.05)"
      ],
      "execution_count": 109,
      "outputs": [
        {
          "output_type": "execute_result",
          "data": {
            "text/plain": [
              "Text(0.5, 1.05, 'Dispersão entre as variáveis')"
            ]
          },
          "metadata": {
            "tags": []
          },
          "execution_count": 109
        },
        {
          "output_type": "display_data",
          "data": {
            "image/png": "[encoded data removed]",
            "text/plain": [
              "<Figure size 540x540 with 12 Axes>"
            ]
          },
          "metadata": {
            "tags": []
          }
        }
      ]
    },
    {
      "cell_type": "markdown",
      "metadata": {
        "id": "iLKsPeafEJZ7",
        "colab_type": "text"
      },
      "source": [
        "## Pergunta: analise um pairplot dos filmes de `Animation`\n",
        "\n",
        "- use o dataframe `filmes`\n",
        "- em um único pairplot separe com cores distintas os filmes da categoria `Animation` dos outros\n",
        "- use uma palete como `husl`\n",
        "- use marcadores distintos para cada um dos dois grupos\n",
        "- faça o pairplot usando seaborn e coloque uma regressão linear para cada pequeno plot dentro dele\n",
        "- tanto em x quanto y use somente três variáveis: `total_de_votos`, `ano_de_lancamento`, `nota_media`"
      ]
    },
    {
      "cell_type": "code",
      "metadata": {
        "id": "Uxg_6h37EJZ8",
        "colab_type": "code",
        "outputId": "78d6317d-0e97-4b6c-d7ee-2cd2d6a19ca5",
        "colab": {
          "base_uri": "https://localhost:8080/",
          "height": 237
        }
      },
      "source": [
        "ax = sns.pairplot(data = filmes, y_vars= 'Animation', x_vars = ['ano_de_lancamento', 'total_de_votos', 'nota_media'], kind= 'reg', palette= 'husl')\n",
        "ax.fig.suptitle('Dispersão entre as variáveis', fontsize = 20, y = 1.05)"
      ],
      "execution_count": 110,
      "outputs": [
        {
          "output_type": "execute_result",
          "data": {
            "text/plain": [
              "Text(0.5, 1.05, 'Dispersão entre as variáveis')"
            ]
          },
          "metadata": {
            "tags": []
          },
          "execution_count": 110
        },
        {
          "output_type": "display_data",
          "data": {
            "image/png": "[encoded data removed]",
            "text/plain": [
              "<Figure size 540x180 with 3 Axes>"
            ]
          },
          "metadata": {
            "tags": []
          }
        }
      ]
    },
    {
      "cell_type": "markdown",
      "metadata": {
        "id": "KKE5BmkTEJZ9",
        "colab_type": "text"
      },
      "source": [
        "## Pergunta: Analise a regressão em relação ao ano de lançamento.\n",
        "\n",
        "- Como parece se comportar a `nota_media` de filmes de `Animation` mais antigos e mais recentes? (ano_de_lancamento x nota_media). Essa correlação parece ser baixa, mas parece ser linear?\n",
        "- E o `ano_de_lancamento` x `total_de_votos`?\n",
        "- E das outras categorias? Compare isso com os outros filmes.\n",
        "- O que leva você levantar como hipótese para esse resultado?"
      ]
    },
    {
      "cell_type": "markdown",
      "metadata": {
        "id": "8DizeyGxEJZ9",
        "colab_type": "text"
      },
      "source": [
        "### Solução:\n",
        "Parece uma relação linear.\n",
        "Parece que quanto mais recente, mais votos o filme possui.\n",
        "\n"
      ]
    },
    {
      "cell_type": "markdown",
      "metadata": {
        "id": "_GIxyybzEJZ-",
        "colab_type": "text"
      },
      "source": [
        "## Pergunta: Explore\n",
        "\n",
        "- compartilhe conosco 2 visualizações extras que julgar interessante\n",
        "- explique o que encontrou\n",
        "- use quantas células (texto ou código) julgar necessário"
      ]
    },
    {
      "cell_type": "markdown",
      "metadata": {
        "id": "POKB6AVQ0Hsd",
        "colab_type": "text"
      },
      "source": [
        "# Qual filme possui a maior média? E qual o seu gênero? "
      ]
    },
    {
      "cell_type": "code",
      "metadata": {
        "id": "EZdy20SDygEr",
        "colab_type": "code",
        "colab": {
          "base_uri": "https://localhost:8080/",
          "height": 165
        },
        "outputId": "dad6e62a-39c1-4157-a97b-2a496a5009df"
      },
      "source": [
        "dados = filmes.nlargest(n = 1, columns=['nota_media'])\n",
        "dados"
      ],
      "execution_count": 112,
      "outputs": [
        {
          "output_type": "execute_result",
          "data": {
            "text/html": [
              "<div>\n",
              "<style scoped>\n",
              "    .dataframe tbody tr th:only-of-type {\n",
              "        vertical-align: middle;\n",
              "    }\n",
              "\n",
              "    .dataframe tbody tr th {\n",
              "        vertical-align: top;\n",
              "    }\n",
              "\n",
              "    .dataframe thead th {\n",
              "        text-align: right;\n",
              "    }\n",
              "</style>\n",
              "<table border=\"1\" class=\"dataframe\">\n",
              "  <thead>\n",
              "    <tr style=\"text-align: right;\">\n",
              "      <th></th>\n",
              "      <th>filmesId</th>\n",
              "      <th>titulo</th>\n",
              "      <th>ano_de_lancamento</th>\n",
              "      <th>nota_media</th>\n",
              "      <th>total_de_votos</th>\n",
              "      <th>Action</th>\n",
              "      <th>Adventure</th>\n",
              "      <th>Animation</th>\n",
              "      <th>Children</th>\n",
              "      <th>Comedy</th>\n",
              "      <th>Crime</th>\n",
              "      <th>Documentary</th>\n",
              "      <th>Drama</th>\n",
              "      <th>Fantasy</th>\n",
              "      <th>FilmNoir</th>\n",
              "      <th>Horror</th>\n",
              "      <th>IMAX</th>\n",
              "      <th>Musical</th>\n",
              "      <th>Mystery</th>\n",
              "      <th>Romance</th>\n",
              "      <th>SciFi</th>\n",
              "      <th>Thriller</th>\n",
              "      <th>War</th>\n",
              "      <th>Western</th>\n",
              "    </tr>\n",
              "    <tr>\n",
              "      <th>filmesId</th>\n",
              "      <th></th>\n",
              "      <th></th>\n",
              "      <th></th>\n",
              "      <th></th>\n",
              "      <th></th>\n",
              "      <th></th>\n",
              "      <th></th>\n",
              "      <th></th>\n",
              "      <th></th>\n",
              "      <th></th>\n",
              "      <th></th>\n",
              "      <th></th>\n",
              "      <th></th>\n",
              "      <th></th>\n",
              "      <th></th>\n",
              "      <th></th>\n",
              "      <th></th>\n",
              "      <th></th>\n",
              "      <th></th>\n",
              "      <th></th>\n",
              "      <th></th>\n",
              "      <th></th>\n",
              "      <th></th>\n",
              "      <th></th>\n",
              "    </tr>\n",
              "  </thead>\n",
              "  <tbody>\n",
              "    <tr>\n",
              "      <th>318</th>\n",
              "      <td>318</td>\n",
              "      <td>Shawshank Redemption, The (1994)</td>\n",
              "      <td>1994.0</td>\n",
              "      <td>4.429022</td>\n",
              "      <td>317.0</td>\n",
              "      <td>0</td>\n",
              "      <td>0</td>\n",
              "      <td>0</td>\n",
              "      <td>0</td>\n",
              "      <td>0</td>\n",
              "      <td>1</td>\n",
              "      <td>0</td>\n",
              "      <td>1</td>\n",
              "      <td>0</td>\n",
              "      <td>0</td>\n",
              "      <td>0</td>\n",
              "      <td>0</td>\n",
              "      <td>0</td>\n",
              "      <td>0</td>\n",
              "      <td>0</td>\n",
              "      <td>0</td>\n",
              "      <td>0</td>\n",
              "      <td>0</td>\n",
              "      <td>0</td>\n",
              "    </tr>\n",
              "  </tbody>\n",
              "</table>\n",
              "</div>"
            ],
            "text/plain": [
              "          filmesId                            titulo  ...  War  Western\n",
              "filmesId                                              ...              \n",
              "318            318  Shawshank Redemption, The (1994)  ...    0        0\n",
              "\n",
              "[1 rows x 24 columns]"
            ]
          },
          "metadata": {
            "tags": []
          },
          "execution_count": 112
        }
      ]
    },
    {
      "cell_type": "markdown",
      "metadata": {
        "id": "5WHHbEJ_0YWD",
        "colab_type": "text"
      },
      "source": [
        "#Resposta: Um Sonho de Liberdade, e possui os gêneros de drama e crime."
      ]
    },
    {
      "cell_type": "markdown",
      "metadata": {
        "id": "JbtJ__SZ0qlj",
        "colab_type": "text"
      },
      "source": [
        "# Qual o pior filme avaliado? E qual o seu gênero? "
      ]
    },
    {
      "cell_type": "code",
      "metadata": {
        "id": "ZRTIdh43zBks",
        "colab_type": "code",
        "colab": {
          "base_uri": "https://localhost:8080/",
          "height": 182
        },
        "outputId": "107a10f0-c64f-412f-e91f-6052d8200bbd"
      },
      "source": [
        "dados = filmes.nsmallest(n = 1, columns=['nota_media'])\n",
        "dados"
      ],
      "execution_count": 113,
      "outputs": [
        {
          "output_type": "execute_result",
          "data": {
            "text/html": [
              "<div>\n",
              "<style scoped>\n",
              "    .dataframe tbody tr th:only-of-type {\n",
              "        vertical-align: middle;\n",
              "    }\n",
              "\n",
              "    .dataframe tbody tr th {\n",
              "        vertical-align: top;\n",
              "    }\n",
              "\n",
              "    .dataframe thead th {\n",
              "        text-align: right;\n",
              "    }\n",
              "</style>\n",
              "<table border=\"1\" class=\"dataframe\">\n",
              "  <thead>\n",
              "    <tr style=\"text-align: right;\">\n",
              "      <th></th>\n",
              "      <th>filmesId</th>\n",
              "      <th>titulo</th>\n",
              "      <th>ano_de_lancamento</th>\n",
              "      <th>nota_media</th>\n",
              "      <th>total_de_votos</th>\n",
              "      <th>Action</th>\n",
              "      <th>Adventure</th>\n",
              "      <th>Animation</th>\n",
              "      <th>Children</th>\n",
              "      <th>Comedy</th>\n",
              "      <th>Crime</th>\n",
              "      <th>Documentary</th>\n",
              "      <th>Drama</th>\n",
              "      <th>Fantasy</th>\n",
              "      <th>FilmNoir</th>\n",
              "      <th>Horror</th>\n",
              "      <th>IMAX</th>\n",
              "      <th>Musical</th>\n",
              "      <th>Mystery</th>\n",
              "      <th>Romance</th>\n",
              "      <th>SciFi</th>\n",
              "      <th>Thriller</th>\n",
              "      <th>War</th>\n",
              "      <th>Western</th>\n",
              "    </tr>\n",
              "    <tr>\n",
              "      <th>filmesId</th>\n",
              "      <th></th>\n",
              "      <th></th>\n",
              "      <th></th>\n",
              "      <th></th>\n",
              "      <th></th>\n",
              "      <th></th>\n",
              "      <th></th>\n",
              "      <th></th>\n",
              "      <th></th>\n",
              "      <th></th>\n",
              "      <th></th>\n",
              "      <th></th>\n",
              "      <th></th>\n",
              "      <th></th>\n",
              "      <th></th>\n",
              "      <th></th>\n",
              "      <th></th>\n",
              "      <th></th>\n",
              "      <th></th>\n",
              "      <th></th>\n",
              "      <th></th>\n",
              "      <th></th>\n",
              "      <th></th>\n",
              "      <th></th>\n",
              "    </tr>\n",
              "  </thead>\n",
              "  <tbody>\n",
              "    <tr>\n",
              "      <th>2701</th>\n",
              "      <td>2701</td>\n",
              "      <td>Wild Wild West (1999)</td>\n",
              "      <td>1999.0</td>\n",
              "      <td>2.207547</td>\n",
              "      <td>53.0</td>\n",
              "      <td>1</td>\n",
              "      <td>0</td>\n",
              "      <td>0</td>\n",
              "      <td>0</td>\n",
              "      <td>1</td>\n",
              "      <td>0</td>\n",
              "      <td>0</td>\n",
              "      <td>0</td>\n",
              "      <td>0</td>\n",
              "      <td>0</td>\n",
              "      <td>0</td>\n",
              "      <td>0</td>\n",
              "      <td>0</td>\n",
              "      <td>0</td>\n",
              "      <td>0</td>\n",
              "      <td>1</td>\n",
              "      <td>0</td>\n",
              "      <td>0</td>\n",
              "      <td>1</td>\n",
              "    </tr>\n",
              "  </tbody>\n",
              "</table>\n",
              "</div>"
            ],
            "text/plain": [
              "          filmesId                 titulo  ...  War  Western\n",
              "filmesId                                   ...              \n",
              "2701          2701  Wild Wild West (1999)  ...    0        1\n",
              "\n",
              "[1 rows x 24 columns]"
            ]
          },
          "metadata": {
            "tags": []
          },
          "execution_count": 113
        }
      ]
    },
    {
      "cell_type": "markdown",
      "metadata": {
        "id": "8pj8IyVP0qZL",
        "colab_type": "text"
      },
      "source": [
        "#Resposta: As Loucas Aventuras de James West, que pertence aos gêneros ação, comedia, ficção científca e velho oeste, que mostra que talvez não seja uma boa ideia misturar todos esses gêneros."
      ]
    }
  ]
}